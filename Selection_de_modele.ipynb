{
 "cells": [
  {
   "cell_type": "markdown",
   "metadata": {},
   "source": [
    "INSA ROUEN <br>\n",
    "MS ESD 2019-2020 <br>\n",
    "Winnie VORIHILALA <br>"
   ]
  },
  {
   "cell_type": "markdown",
   "metadata": {},
   "source": [
    "# <center> ML2 - TP3 : Sélection de modèle  </center>"
   ]
  },
  {
   "cell_type": "markdown",
   "metadata": {},
   "source": [
    "Les objectifs de ce TP sont :\n",
    "- mise en œuvre d’une prodécude de sélection de modèle via le grid search\n",
    "- prise en charge de données catégorielles"
   ]
  },
  {
   "cell_type": "markdown",
   "metadata": {},
   "source": [
    "# 1- Classification de données Splice"
   ]
  },
  {
   "cell_type": "markdown",
   "metadata": {},
   "source": [
    "Les jonctions d'épissage sont des points d'une séquence d'ADN au cours desquels l'ADN «superflu» est éliminé au cours du processus de création de protéines dans les organismes supérieurs. Le problème que nous cherchons à résoudre est de reconnaître, étant donné une séquence d'ADN, les frontières entre les exons (aussi appelé site IE, et qui correspondent aux parties de la séquence d'ADN conservées après l'épissage) et les introns (aussi appelé EI, et qui correspondent aux parties de la séquence d'ADN qui sont épissées). Pour plus de détails, voir les 2 liens ci-dessous : <br>\n",
    "- https://archive.ics.uci.edu/ml/datasets/Molecular+Biology+(Splice-junction+Gene+Sequences) <br>\n",
    "- http://www.cs.toronto.edu/~delve/data/splice/spliceDetail.html <br>"
   ]
  },
  {
   "cell_type": "markdown",
   "metadata": {},
   "source": [
    "## Chargement des librairies\n"
   ]
  },
  {
   "cell_type": "code",
   "execution_count": 109,
   "metadata": {},
   "outputs": [],
   "source": [
    "from __future__ import print_function\n",
    "from __future__ import division\n",
    "\n",
    "from sklearn.datasets import load_svmlight_file \n",
    "#La bibliothèque SVM-Light implémente la machine à vecteurs de support de Vapnik, \n",
    "# mais le format a été adopté ailleurs et peut être utilisé pour de nombreuses tâches d'apprentissage \n",
    "# automatique, y compris la classification et la régression\n",
    "\n",
    "# SVMlight est une implémentation de SVM, format d'entrée spécial pour représenter les données d'apprentissage \n",
    "# et de test \n",
    "\n",
    "import numpy as np\n",
    "import pandas as pd\n",
    "import matplotlib.pyplot as plt\n",
    "\n",
    "from matplotlib.colors import ListedColormap\n",
    "\n",
    "import pandas as pd\n",
    "import seaborn as sb\n",
    "# import matplotlib as plt\n",
    "import numpy as np\n",
    "\n",
    "import scipy.io as sio #to load matlab file\n",
    "import scipy.sparse\n",
    "\n",
    "from sklearn.metrics import accuracy_score, roc_curve, auc\n",
    "from sklearn.model_selection import train_test_split\n",
    "from sklearn.preprocessing import StandardScaler\n",
    "from sklearn.preprocessing import LabelEncoder #convertir var catégorielle en var quantitative\n",
    "\n",
    "from sklearn import datasets\n",
    "from sklearn.discriminant_analysis import LinearDiscriminantAnalysis\n",
    "from sklearn.discriminant_analysis import QuadraticDiscriminantAnalysis\n",
    "from sklearn.neighbors import KNeighborsClassifier #kppv\n",
    "\n",
    "\n",
    "from sklearn.svm import SVC\n",
    "\n",
    "from sklearn.model_selection import KFold\n",
    "\n",
    "from sklearn.model_selection import GridSearchCV\n",
    "\n",
    "from sklearn import linear_model\n",
    "\n",
    "from sklearn.metrics import confusion_matrix\n",
    "\n",
    "import scipy.io as sio\n",
    "\n",
    "from sklearn.metrics import accuracy_score, roc_curve, precision_score, recall_score, f1_score, cohen_kappa_score, roc_auc_score \n",
    "\n",
    "# accuracy_score : score de classification de précision (ou tout simplement PRECISION)\n",
    "# ROC : limit aux cas de classification binaire\n",
    "\n",
    "\n",
    "#from sklearn.metrics import accuracy_score\n",
    "#from sklearn.metrics import precision_score\n",
    "#from sklearn.metrics import recall_score\n",
    "#from sklearn.metrics import f1_score\n",
    "#from sklearn.metrics import cohen_kappa_score\n",
    "#from sklearn.metrics import roc_auc_score\n",
    "\n",
    "%matplotlib inline"
   ]
  },
  {
   "cell_type": "markdown",
   "metadata": {},
   "source": [
    "# 1 - Chargement des données splice"
   ]
  },
  {
   "cell_type": "code",
   "execution_count": 3,
   "metadata": {},
   "outputs": [],
   "source": [
    "X, Y = load_svmlight_file(\"./splice.txt\")"
   ]
  },
  {
   "cell_type": "code",
   "execution_count": 17,
   "metadata": {},
   "outputs": [
    {
     "name": "stdout",
     "output_type": "stream",
     "text": [
      "X est de type <class 'scipy.sparse.csr.csr_matrix'>\n",
      "Y est de type <class 'numpy.ndarray'>\n",
      "\n",
      "X est de dimension (1000, 60)\n",
      "Y est de dimension (1000,)\n"
     ]
    }
   ],
   "source": [
    "print(\"X est de type\",type(X))\n",
    "print(\"Y est de type\",type(Y))\n",
    "print(\"\\nX est de dimension\",X.shape)\n",
    "print(\"Y est de dimension\",Y.shape)"
   ]
  },
  {
   "cell_type": "code",
   "execution_count": 4,
   "metadata": {},
   "outputs": [
    {
     "data": {
      "text/plain": [
       "<1000x60 sparse matrix of type '<class 'numpy.float64'>'\n",
       "\twith 60000 stored elements in Compressed Sparse Row format>"
      ]
     },
     "execution_count": 4,
     "metadata": {},
     "output_type": "execute_result"
    }
   ],
   "source": [
    "X"
   ]
  },
  {
   "cell_type": "markdown",
   "metadata": {},
   "source": [
    "On constate que X est une matrice sparse compressée de dimension 1000 x 60 composée de valeurs numériques décimales."
   ]
  },
  {
   "cell_type": "code",
   "execution_count": 29,
   "metadata": {},
   "outputs": [],
   "source": [
    "#Y"
   ]
  },
  {
   "cell_type": "markdown",
   "metadata": {},
   "source": [
    "Y est un tableau composé de 2 classes : 1 et -1"
   ]
  },
  {
   "cell_type": "markdown",
   "metadata": {},
   "source": [
    "## Modèle SVM non-linéaire avec noyau gaussien "
   ]
  },
  {
   "cell_type": "markdown",
   "metadata": {},
   "source": [
    "On veut apprendre un modèle SVM non-linéaire avec un noyau RBF (gausien) $k(x,z) = exp^{\\gamma ||x-z||}$ en sélectionnant de façon appropriée les hyper-paramètres C du SVM et γ du noyau. Pour cela, on servira du module GridSearchCV."
   ]
  },
  {
   "cell_type": "markdown",
   "metadata": {},
   "source": [
    "Dans un premier temps, on construit une échelle logarithmique des deux vecteurs suivants qui vont être les valeurs possibles que peuvent prendre C et  γ :"
   ]
  },
  {
   "cell_type": "code",
   "execution_count": 22,
   "metadata": {},
   "outputs": [],
   "source": [
    "gamma_grid = np.logspace(-3, 0, 30)\n",
    "C_grid = np.logspace(-0.5, 1.5, 30)"
   ]
  },
  {
   "cell_type": "markdown",
   "metadata": {},
   "source": [
    "On effectue alors une Grid Search sur la grille formée par les vecteurs précédemment définis."
   ]
  },
  {
   "cell_type": "code",
   "execution_count": 26,
   "metadata": {},
   "outputs": [],
   "source": [
    "#from sklearn.model_selection import GridSearchCV\n",
    "#from sklearn.svm import SVC\n",
    "\n",
    "# the grid\n",
    "parameters = [{\"gamma\": gamma_grid, \"C\": C_grid}]\n",
    "\n",
    "# the classifier\n",
    "clf_rbf = SVC(kernel=\"rbf\", tol=0.01)\n",
    "\n",
    "# Perf a K-fold validation using the accuracy as the performance measure\n",
    "\n",
    "K = 10 # feel free to adapt the value of $K$\n",
    "\n",
    "# we will dot it on a grid search using n_jobs processors\n",
    "clf_rbf = GridSearchCV(clf_rbf, param_grid=parameters, cv=K, scoring=\"accuracy\", verbose=1, n_jobs = 2)"
   ]
  },
  {
   "cell_type": "markdown",
   "metadata": {},
   "source": [
    "Lançons la sélection du modèle optimal et son apprentissage"
   ]
  },
  {
   "cell_type": "code",
   "execution_count": 27,
   "metadata": {
    "scrolled": false
   },
   "outputs": [
    {
     "name": "stdout",
     "output_type": "stream",
     "text": [
      "Fitting 10 folds for each of 900 candidates, totalling 9000 fits\n"
     ]
    },
    {
     "name": "stderr",
     "output_type": "stream",
     "text": [
      "[Parallel(n_jobs=2)]: Using backend LokyBackend with 2 concurrent workers.\n",
      "[Parallel(n_jobs=2)]: Done  46 tasks      | elapsed:    8.4s\n",
      "[Parallel(n_jobs=2)]: Done 196 tasks      | elapsed:   23.5s\n",
      "[Parallel(n_jobs=2)]: Done 446 tasks      | elapsed:   50.1s\n",
      "[Parallel(n_jobs=2)]: Done 796 tasks      | elapsed:  1.5min\n",
      "[Parallel(n_jobs=2)]: Done 1246 tasks      | elapsed:  2.3min\n",
      "[Parallel(n_jobs=2)]: Done 1796 tasks      | elapsed:  3.3min\n",
      "[Parallel(n_jobs=2)]: Done 2446 tasks      | elapsed:  4.4min\n",
      "[Parallel(n_jobs=2)]: Done 3196 tasks      | elapsed:  5.7min\n",
      "[Parallel(n_jobs=2)]: Done 4046 tasks      | elapsed:  7.2min\n",
      "[Parallel(n_jobs=2)]: Done 4996 tasks      | elapsed:  8.8min\n",
      "[Parallel(n_jobs=2)]: Done 6046 tasks      | elapsed: 10.6min\n",
      "[Parallel(n_jobs=2)]: Done 7196 tasks      | elapsed: 12.7min\n",
      "[Parallel(n_jobs=2)]: Done 8446 tasks      | elapsed: 15.1min\n",
      "[Parallel(n_jobs=2)]: Done 9000 out of 9000 | elapsed: 16.1min finished\n",
      "/anaconda3/lib/python3.7/site-packages/sklearn/model_selection/_search.py:841: DeprecationWarning: The default of the `iid` parameter will change from True to False in version 0.22 and will be removed in 0.24. This will change numeric results when test-set sizes are unequal.\n",
      "  DeprecationWarning)\n"
     ]
    },
    {
     "data": {
      "text/plain": [
       "GridSearchCV(cv=10, error_score='raise-deprecating',\n",
       "       estimator=SVC(C=1.0, cache_size=200, class_weight=None, coef0=0.0,\n",
       "  decision_function_shape='ovr', degree=3, gamma='auto_deprecated',\n",
       "  kernel='rbf', max_iter=-1, probability=False, random_state=None,\n",
       "  shrinking=True, tol=0.01, verbose=False),\n",
       "       fit_params=None, iid='warn', n_jobs=2,\n",
       "       param_grid=[{'gamma': array([0.001  , 0.00127, 0.00161, 0.00204, 0.00259, 0.00329, 0.00418,\n",
       "       0.0053 , 0.00672, 0.00853, 0.01083, 0.01374, 0.01743, 0.02212,\n",
       "       0.02807, 0.03562, 0.0452 , 0.05736, 0.07279, 0.09237, 0.11721,\n",
       "       0.14874, 0.18874, 0.2395 , 0.30392, 0.38566, 0.48939, 0.62102...  8.8772 , 10.40498, 12.1957 ,\n",
       "       14.29461, 16.75475, 19.63828, 23.01807, 26.97954, 31.62278])}],\n",
       "       pre_dispatch='2*n_jobs', refit=True, return_train_score='warn',\n",
       "       scoring='accuracy', verbose=1)"
      ]
     },
     "execution_count": 27,
     "metadata": {},
     "output_type": "execute_result"
    }
   ],
   "source": [
    "clf_rbf.fit(X, Y)"
   ]
  },
  {
   "cell_type": "markdown",
   "metadata": {},
   "source": [
    "On trace le taux de classification en fonction de la grille d'hyper-paramètres."
   ]
  },
  {
   "cell_type": "code",
   "execution_count": 32,
   "metadata": {},
   "outputs": [
    {
     "name": "stdout",
     "output_type": "stream",
     "text": [
      "\n",
      " Rbf kernel - optimal hyper-parameters = {'C': 2.126112333899656, 'gamma': 0.01373823795883263}\n",
      "\n",
      " Rbf kernel - best cross-val accuracy = 0.886\n"
     ]
    },
    {
     "data": {
      "image/png": "[encoded data removed]",
      "text/plain": [
       "<Figure size 432x288 with 2 Axes>"
      ]
     },
     "metadata": {
      "needs_background": "light"
     },
     "output_type": "display_data"
    }
   ],
   "source": [
    "# Get the best parameters\n",
    "import matplotlib.pyplot as plt\n",
    "\n",
    "print(\"\\n Rbf kernel - optimal hyper-parameters = {}\".format(clf_rbf.best_params_))\n",
    "print(\"\\n Rbf kernel - best cross-val accuracy = {}\".format(clf_rbf.best_score_))\n",
    "\n",
    "## Plot the validation performance w.r.t. C and gamma\n",
    "\n",
    "#import matplotlib.pyplot as plt\n",
    "plt.imshow(clf_rbf.cv_results_[\"mean_test_score\"].reshape(gamma_grid.shape[0],C_grid.shape[0]), \n",
    "           extent=[min(gamma_grid),max(gamma_grid),min(C_grid),max(C_grid)],\n",
    "           interpolation=\"bicubic\",aspect=\"auto\")\n",
    "plt.colorbar()\n",
    "plt.show()"
   ]
  },
  {
   "cell_type": "markdown",
   "metadata": {},
   "source": [
    "La figure obtenue est cohérente car la zone jaune correspond au meilleur score obtenu. On observe bien que pour  C=4.42\n",
    "  et  γ=0.01\n",
    " , on est dans la zone jaune.\n",
    "On peut alors télécharger le jeux de données test et effectuer les prédictions dessus grâce à notre modèle."
   ]
  },
  {
   "cell_type": "code",
   "execution_count": 33,
   "metadata": {},
   "outputs": [],
   "source": [
    "# load the test set inputs (they are stored in a sparse matrix)\n",
    "#import scipy.sparse\n",
    "Xtest = scipy.sparse.load_npz(\"./splice_t.npz\")\n",
    "y_test = clf_rbf.predict(Xtest)\n",
    "df = pd.DataFrame(y_test)\n",
    "df.to_csv(\"y_test.csv\", sep=';', header=False)"
   ]
  },
  {
   "cell_type": "code",
   "execution_count": 34,
   "metadata": {
    "scrolled": true
   },
   "outputs": [
    {
     "data": {
      "text/plain": [
       "<2175x60 sparse matrix of type '<class 'numpy.float64'>'\n",
       "\twith 130500 stored elements in Compressed Sparse Row format>"
      ]
     },
     "execution_count": 34,
     "metadata": {},
     "output_type": "execute_result"
    }
   ],
   "source": [
    "Xtest"
   ]
  },
  {
   "cell_type": "code",
   "execution_count": 35,
   "metadata": {},
   "outputs": [
    {
     "data": {
      "text/plain": [
       "array([-1., -1.,  1., ...,  1.,  1., -1.])"
      ]
     },
     "execution_count": 35,
     "metadata": {},
     "output_type": "execute_result"
    }
   ],
   "source": [
    "y_test"
   ]
  },
  {
   "cell_type": "code",
   "execution_count": 36,
   "metadata": {
    "scrolled": true
   },
   "outputs": [
    {
     "name": "stdout",
     "output_type": "stream",
     "text": [
      "<class 'scipy.sparse.csr.csr_matrix'>\n",
      "<class 'numpy.ndarray'>\n",
      "(2175, 60)\n",
      "(2175,)\n"
     ]
    }
   ],
   "source": [
    "print(type(Xtest))\n",
    "print(type(y_test))\n",
    "print(Xtest.shape)\n",
    "print(y_test.shape)"
   ]
  },
  {
   "cell_type": "markdown",
   "metadata": {},
   "source": [
    "On obtient alors un score de 90.39%.\n",
    "Nous voulons comparer ce résultat avec un SVM linéaire."
   ]
  },
  {
   "cell_type": "code",
   "execution_count": 40,
   "metadata": {
    "scrolled": false
   },
   "outputs": [
    {
     "name": "stdout",
     "output_type": "stream",
     "text": [
      "Fitting 10 folds for each of 149 candidates, totalling 1490 fits\n"
     ]
    },
    {
     "name": "stderr",
     "output_type": "stream",
     "text": [
      "[Parallel(n_jobs=2)]: Using backend LokyBackend with 2 concurrent workers.\n",
      "[Parallel(n_jobs=2)]: Done  46 tasks      | elapsed:    6.0s\n",
      "[Parallel(n_jobs=2)]: Done 196 tasks      | elapsed:   15.3s\n",
      "[Parallel(n_jobs=2)]: Done 446 tasks      | elapsed:   34.2s\n",
      "[Parallel(n_jobs=2)]: Done 796 tasks      | elapsed:  1.1min\n",
      "[Parallel(n_jobs=2)]: Done 1246 tasks      | elapsed:  1.9min\n",
      "[Parallel(n_jobs=2)]: Done 1490 out of 1490 | elapsed:  2.4min finished\n"
     ]
    },
    {
     "data": {
      "text/plain": [
       "GridSearchCV(cv=10, error_score='raise-deprecating',\n",
       "       estimator=SVC(C=1.0, cache_size=200, class_weight=None, coef0=0.0,\n",
       "  decision_function_shape='ovr', degree=3, gamma='auto_deprecated',\n",
       "  kernel='linear', max_iter=-1, probability=False, random_state=None,\n",
       "  shrinking=True, tol=0.01, verbose=False),\n",
       "       fit_params=None, iid='warn', n_jobs=2,\n",
       "       param_grid=[{'C': [0.01, 0.02, 0.03, 0.04, 0.05, 0.06, 0.07, 0.08, 0.09, 0.1, 0.11, 0.12, 0.13, 0.14, 0.15, 0.16, 0.17, 0.18, 0.19, 0.2, 0.21, 0.22, 0.23, 0.24, 0.25, 0.26, 0.27, 0.28, 0.29, 0.3, 0.31, 0.32, 0.33, 0.34, 0.35, 0.36, 0.37, 0.38, 0.39, 0.4, 0.41, 0.42, 0.43, 0.44, 0.45, 0.46, 0.47, 0.4...33, 1.34, 1.35, 1.36, 1.37, 1.38, 1.39, 1.4, 1.41, 1.42, 1.43, 1.44, 1.45, 1.46, 1.47, 1.48, 1.49]}],\n",
       "       pre_dispatch='2*n_jobs', refit=True, return_train_score='warn',\n",
       "       scoring='accuracy', verbose=1)"
      ]
     },
     "execution_count": 40,
     "metadata": {},
     "output_type": "execute_result"
    }
   ],
   "source": [
    "C_grid = [i/100 for i in range (1, 150)]\n",
    "\n",
    "from sklearn.model_selection import GridSearchCV\n",
    "from sklearn.svm import SVC\n",
    "\n",
    "# the grid\n",
    "parameters = [{\"C\": C_grid}]\n",
    "\n",
    "# the classifier\n",
    "clf_lin = SVC(kernel=\"linear\", tol=0.01)\n",
    "\n",
    "# Perf a K-fold validation using the accuracy as the performance measure\n",
    "K = 10 # feel free to adapt the value of $K$\n",
    "\n",
    "# we will do it on a grid search using n_jobs processors\n",
    "clf_lin = GridSearchCV(clf_lin, param_grid=parameters, cv=K, scoring=\"accuracy\", verbose=1, n_jobs = 2)\n",
    "clf_lin.fit(X, Y)"
   ]
  },
  {
   "cell_type": "code",
   "execution_count": 41,
   "metadata": {},
   "outputs": [
    {
     "name": "stdout",
     "output_type": "stream",
     "text": [
      "\n",
      " Linear kernel - optimal hyper-parameters = {'C': 0.01}\n",
      "\n",
      " Linear kernel - best cross-val accuracy = 0.819\n"
     ]
    }
   ],
   "source": [
    "# Get the best parameters\n",
    "print(\"\\n Linear kernel - optimal hyper-parameters = {}\".format(clf_lin.best_params_))\n",
    "print(\"\\n Linear kernel - best cross-val accuracy = {}\".format(clf_lin.best_score_))"
   ]
  },
  {
   "cell_type": "code",
   "execution_count": 42,
   "metadata": {},
   "outputs": [],
   "source": [
    "y_test_lin = clf_lin.predict(Xtest)\n",
    "df = pd.DataFrame(y_test_lin)\n",
    "df.to_csv(\"y_test_lin.csv\", sep=';', header=False)"
   ]
  },
  {
   "cell_type": "markdown",
   "metadata": {},
   "source": [
    "On obtient alors un score de 84.94% qui est moins satisfaisant que celui obtenu avec le SVM non-linéaire."
   ]
  },
  {
   "cell_type": "markdown",
   "metadata": {},
   "source": [
    "# 2- Classification de données marketing"
   ]
  },
  {
   "cell_type": "markdown",
   "metadata": {},
   "source": [
    "Les données à traiter portent sur une campagne de marketing (par téléphone) d’une banque à destination de prospects. L’objectif est de prédire si un prospect va souscrire ou non à l’ouverture d’un compte. Les données sont disponibles sous Moodle ou téléchargeables sur https://archive.ics.uci.edu/ml/datasets/bank+marketing. <br>\n",
    "Les détails sur les variables ainsi que les labels sont fournis sur le même site."
   ]
  },
  {
   "cell_type": "markdown",
   "metadata": {},
   "source": [
    "## 2.1 - Chargement des données et analyse sommaire"
   ]
  },
  {
   "cell_type": "markdown",
   "metadata": {},
   "source": [
    "On suppose que le fichier des données bank-additional-full.csv est placé dans le répertoire de travail."
   ]
  },
  {
   "cell_type": "code",
   "execution_count": 60,
   "metadata": {},
   "outputs": [
    {
     "name": "stdout",
     "output_type": "stream",
     "text": [
      "<class 'pandas.core.frame.DataFrame'>\n",
      "RangeIndex: 41188 entries, 0 to 41187\n",
      "Data columns (total 21 columns):\n",
      "age               41188 non-null int64\n",
      "job               41188 non-null object\n",
      "marital           41188 non-null object\n",
      "education         41188 non-null object\n",
      "default           41188 non-null object\n",
      "housing           41188 non-null object\n",
      "loan              41188 non-null object\n",
      "contact           41188 non-null object\n",
      "month             41188 non-null object\n",
      "day_of_week       41188 non-null object\n",
      "duration          41188 non-null int64\n",
      "campaign          41188 non-null int64\n",
      "pdays             41188 non-null int64\n",
      "previous          41188 non-null int64\n",
      "poutcome          41188 non-null object\n",
      "emp.var.rate      41188 non-null float64\n",
      "cons.price.idx    41188 non-null float64\n",
      "cons.conf.idx     41188 non-null float64\n",
      "euribor3m         41188 non-null float64\n",
      "nr.employed       41188 non-null float64\n",
      "y                 41188 non-null object\n",
      "dtypes: float64(5), int64(5), object(11)\n",
      "memory usage: 6.6+ MB\n"
     ]
    }
   ],
   "source": [
    "data = pd.read_csv(\"./bank-additional-full.csv\", sep=\";\",header=0)\n",
    "data.info()"
   ]
  },
  {
   "cell_type": "markdown",
   "metadata": {},
   "source": [
    "On remarque qu'il y a des variables de type object, elles sont donc catégorielles. Il n'y a pas de valeurs manquantes.\n"
   ]
  },
  {
   "cell_type": "markdown",
   "metadata": {},
   "source": [
    "## Visualisation des variables catégorielles et numériques."
   ]
  },
  {
   "cell_type": "code",
   "execution_count": 38,
   "metadata": {},
   "outputs": [
    {
     "name": "stdout",
     "output_type": "stream",
     "text": [
      "\n",
      " On a 10 variables numeriques : \n",
      " ['age', 'duration', 'campaign', 'pdays', 'previous', 'emp.var.rate', 'cons.price.idx', 'cons.conf.idx', 'euribor3m', 'nr.employed'] \n",
      "\n",
      " On a 10 variables categorielles : \n",
      " ['job', 'marital', 'education', 'default', 'housing', 'loan', 'contact', 'month', 'day_of_week', 'poutcome'] \n"
     ]
    }
   ],
   "source": [
    "# variables numeriques\n",
    "var_num = list(data.columns[(data.dtypes==\"int\")|(data.dtypes==\"float\")])\n",
    "\n",
    "print(\"\\n On a {} variables numeriques : \\n {} \".format(len(var_num) ,var_num))\n",
    "\n",
    "# Variables categorielles\n",
    "var_cat = list(data.columns[data.dtypes==\"object\"].drop(\"y\")) \n",
    "print(\"\\n On a {} variables categorielles : \\n {} \".format(len(var_cat),var_cat))"
   ]
  },
  {
   "cell_type": "markdown",
   "metadata": {},
   "source": [
    "## Analyse statistique et sommaire des données à disposition en fonction des catégories"
   ]
  },
  {
   "cell_type": "code",
   "execution_count": 50,
   "metadata": {},
   "outputs": [
    {
     "name": "stdout",
     "output_type": "stream",
     "text": [
      "\n",
      " Categories une des variables ['married' 'single' 'divorced' 'unknown']\n",
      "\n",
      " Analyse statistique selon la variable marital\n",
      "Moyenne\n",
      "                age    duration  campaign       pdays  previous  emp.var.rate  \\\n",
      "marital                                                                         \n",
      "divorced  44.899393  253.790330   2.61340  968.639853  0.168690      0.163985   \n",
      "married   42.307165  257.438623   2.57281  967.247673  0.155608      0.183625   \n",
      "single    33.158714  261.524378   2.53380  949.909578  0.211359     -0.167989   \n",
      "unknown   40.275000  312.725000   3.18750  937.100000  0.275000     -0.221250   \n",
      "\n",
      "          cons.price.idx  cons.conf.idx  euribor3m  nr.employed  \n",
      "marital                                                          \n",
      "divorced       93.606563     -40.707069   3.715603  5170.878643  \n",
      "married        93.597367     -40.270659   3.745832  5171.848772  \n",
      "single         93.517300     -40.918698   3.317447  5155.199265  \n",
      "unknown        93.471250     -40.820000   3.313037  5157.393750  \n",
      "Variance\n",
      "                 age      duration   campaign         pdays  previous  \\\n",
      "marital                                                                 \n",
      "divorced  112.903344  62014.081164   7.001451  29234.337193  0.236122   \n",
      "married   100.363904  66998.379672   7.983466  30527.538768  0.217010   \n",
      "single     56.769482  69674.097962   7.223375  46331.594659  0.306063   \n",
      "unknown   116.303165  81275.315823  14.331487  58202.875949  0.303165   \n",
      "\n",
      "          emp.var.rate  cons.price.idx  cons.conf.idx  euribor3m  nr.employed  \n",
      "marital                                                                        \n",
      "divorced      2.280652        0.319143      19.865823   2.840117  4942.510320  \n",
      "married       2.354026        0.329734      20.829013   2.832686  4783.493374  \n",
      "single        2.698756        0.347663      22.984282   3.322932  6079.239089  \n",
      "unknown       2.732328        0.395758      25.624658   3.258742  4904.818062  \n"
     ]
    },
    {
     "data": {
      "image/png": "[encoded data removed]",
      "text/plain": [
       "<Figure size 1080x288 with 1 Axes>"
      ]
     },
     "metadata": {
      "needs_background": "light"
     },
     "output_type": "display_data"
    }
   ],
   "source": [
    "# Examen d'une des variables catégorielles\n",
    "print(\"\\n Categories une des variables {}\".format(data[\"marital\"]. unique()))\n",
    "plt.figure(figsize = (15,4))\n",
    "sb.countplot(x = \"marital\", data = data)\n",
    "\n",
    "# analyse statistique selon la variable categorielle\n",
    "print(\"\\n Analyse statistique selon la variable marital\") \n",
    "print(\"Moyenne\")\n",
    "print(data.groupby(\"marital\").mean())\n",
    "print(\"Variance\")\n",
    "print(data.groupby(\"marital\").var())"
   ]
  },
  {
   "cell_type": "code",
   "execution_count": 51,
   "metadata": {},
   "outputs": [
    {
     "name": "stdout",
     "output_type": "stream",
     "text": [
      "\n",
      " Categories une des variables ['basic.4y' 'high.school' 'basic.6y' 'basic.9y' 'professional.course'\n",
      " 'unknown' 'university.degree' 'illiterate']\n",
      "\n",
      " Analyse statistique selon la variable education\n",
      "Moyenne\n",
      "                           age    duration  campaign       pdays  previous  \\\n",
      "education                                                                    \n",
      "basic.4y             47.596504  264.827826  2.600575  965.704981  0.147031   \n",
      "basic.6y             40.448953  264.414485  2.556283  980.368237  0.129145   \n",
      "basic.9y             39.061208  261.291811  2.532341  979.133168  0.141439   \n",
      "high.school          37.998213  260.886810  2.568576  964.358382  0.185917   \n",
      "illiterate           48.500000  276.777778  2.277778  943.833333  0.111111   \n",
      "professional.course  40.080107  252.533855  2.586115  960.765974  0.163075   \n",
      "university.degree    38.879191  253.223373  2.563527  951.807692  0.192390   \n",
      "unknown              43.481225  262.390526  2.596187  942.830734  0.226459   \n",
      "\n",
      "                     emp.var.rate  cons.price.idx  cons.conf.idx  euribor3m  \\\n",
      "education                                                                     \n",
      "basic.4y                 0.215924       93.658309     -40.239871   3.751768   \n",
      "basic.6y                 0.231152       93.650062     -41.127880   3.772942   \n",
      "basic.9y                 0.159239       93.623399     -41.326749   3.697963   \n",
      "high.school              0.032937       93.584857     -40.940641   3.556157   \n",
      "illiterate              -0.133333       93.317333     -39.950000   3.516556   \n",
      "professional.course      0.173012       93.569864     -40.124108   3.710457   \n",
      "university.degree       -0.028090       93.493466     -39.975805   3.529663   \n",
      "unknown                  0.059099       93.658615     -39.877816   3.571098   \n",
      "\n",
      "                     nr.employed  \n",
      "education                         \n",
      "basic.4y             5170.124880  \n",
      "basic.6y             5174.718063  \n",
      "basic.9y             5172.294012  \n",
      "high.school          5164.994735  \n",
      "illiterate           5171.777778  \n",
      "professional.course  5170.155979  \n",
      "university.degree    5163.226298  \n",
      "unknown              5159.549509  \n",
      "Variance\n",
      "                            age      duration  campaign         pdays  \\\n",
      "education                                                               \n",
      "basic.4y             147.036433  68934.305439  8.818146  31966.180248   \n",
      "basic.6y              75.508087  73666.110100  6.129961  18164.631693   \n",
      "basic.9y              91.880436  65884.972410  7.739730  19327.029418   \n",
      "high.school           94.235965  68686.273186  7.643683  33196.723977   \n",
      "illiterate           119.794118  91743.006536  2.565359  54780.500000   \n",
      "professional.course   97.940548  70720.691099  7.599746  36488.627594   \n",
      "university.degree     92.588840  64418.131575  7.639426  44662.112600   \n",
      "unknown              155.960774  59889.594222  7.409673  52603.834338   \n",
      "\n",
      "                     previous  emp.var.rate  cons.price.idx  cons.conf.idx  \\\n",
      "education                                                                    \n",
      "basic.4y             0.208796      2.404113        0.342171      21.826297   \n",
      "basic.6y             0.152673      2.162556        0.329921      18.569737   \n",
      "basic.9y             0.169105      2.190360        0.325599      17.968442   \n",
      "high.school          0.254584      2.458341        0.346892      20.773226   \n",
      "illiterate           0.104575      2.988235        0.401721      27.405000   \n",
      "professional.course  0.229220      2.388709        0.312109      21.454009   \n",
      "university.degree    0.289358      2.659974        0.321585      22.959160   \n",
      "unknown              0.389149      2.724511        0.370153      22.041415   \n",
      "\n",
      "                     euribor3m  nr.employed  \n",
      "education                                    \n",
      "basic.4y              2.919260  5139.967532  \n",
      "basic.6y              2.725440  3663.093344  \n",
      "basic.9y              2.799720  3843.929630  \n",
      "high.school           3.065091  5102.196210  \n",
      "illiterate            3.205895  3995.708889  \n",
      "professional.course   2.923097  5438.548058  \n",
      "university.degree     3.120708  5968.931744  \n",
      "unknown               3.290961  6632.116605  \n"
     ]
    },
    {
     "data": {
      "image/png": "[encoded data removed]",
      "text/plain": [
       "<Figure size 1080x288 with 1 Axes>"
      ]
     },
     "metadata": {
      "needs_background": "light"
     },
     "output_type": "display_data"
    }
   ],
   "source": [
    "# Examen une des variables categorielles\n",
    "print(\"\\n Categories une des variables {}\".format(data[\"education\"].unique()))\n",
    "plt.figure(figsize = (15,4))\n",
    "sb.countplot(x = \"education\", data = data)\n",
    "# analyse statistique selon la variable categorielle\n",
    "print(\"\\n Analyse statistique selon la variable education\")\n",
    "print(\"Moyenne\")\n",
    "print(data.groupby(\"education\").mean())\n",
    "print(\"Variance\")\n",
    "print(data.groupby(\"education\").var())"
   ]
  },
  {
   "cell_type": "markdown",
   "metadata": {},
   "source": [
    "On peut remarquer que les données ont des ordres de grandeur de valeurs différentes donc il sera nécessaire de les normaliser."
   ]
  },
  {
   "cell_type": "code",
   "execution_count": 49,
   "metadata": {
    "scrolled": false
   },
   "outputs": [
    {
     "name": "stdout",
     "output_type": "stream",
     "text": [
      "\n",
      " Categories une des variables ['housemaid' 'services' 'admin.' 'blue-collar' 'technician' 'retired'\n",
      " 'management' 'unemployed' 'self-employed' 'unknown' 'entrepreneur'\n",
      " 'student']\n",
      "\n",
      " Analyse statistique selon la variable job\n",
      "Moyenne\n",
      "                     age    duration  campaign       pdays  previous  \\\n",
      "job                                                                    \n",
      "admin.         38.187296  254.312128  2.623489  954.319229  0.189023   \n",
      "blue-collar    39.555760  264.542360  2.558461  985.160363  0.122542   \n",
      "entrepreneur   41.723214  263.267857  2.535714  981.267170  0.138736   \n",
      "housemaid      45.500000  250.454717  2.639623  960.579245  0.137736   \n",
      "management     42.362859  257.058140  2.476060  962.647059  0.185021   \n",
      "retired        62.027326  273.712209  2.476744  897.936047  0.327326   \n",
      "self-employed  39.949331  264.142153  2.660802  976.621393  0.143561   \n",
      "services       37.926430  258.398085  2.587805  979.974049  0.154951   \n",
      "student        25.894857  283.683429  2.104000  840.217143  0.524571   \n",
      "technician     38.507638  250.232241  2.577339  964.408127  0.153789   \n",
      "unemployed     39.733728  249.451677  2.564103  935.316568  0.199211   \n",
      "unknown        45.563636  239.675758  2.648485  938.727273  0.154545   \n",
      "\n",
      "               emp.var.rate  cons.price.idx  cons.conf.idx  euribor3m  \\\n",
      "job                                                                     \n",
      "admin.             0.015563       93.534054     -40.245433   3.550274   \n",
      "blue-collar        0.248995       93.656656     -41.375816   3.771996   \n",
      "entrepreneur       0.158723       93.605372     -41.283654   3.791120   \n",
      "housemaid          0.433396       93.676576     -39.495283   4.009645   \n",
      "management        -0.012688       93.522755     -40.489466   3.611316   \n",
      "retired           -0.698314       93.430786     -38.573081   2.770066   \n",
      "self-employed      0.094159       93.559982     -40.488107   3.689376   \n",
      "services           0.175359       93.634659     -41.290048   3.699187   \n",
      "student           -1.408000       93.331613     -40.187543   1.884224   \n",
      "technician         0.274566       93.561471     -39.927569   3.820401   \n",
      "unemployed        -0.111736       93.563781     -40.007594   3.466583   \n",
      "unknown            0.357879       93.718942     -38.797879   3.949033   \n",
      "\n",
      "               nr.employed  \n",
      "job                         \n",
      "admin.         5164.125350  \n",
      "blue-collar    5175.615150  \n",
      "entrepreneur   5176.313530  \n",
      "housemaid      5179.529623  \n",
      "management     5166.650513  \n",
      "retired        5122.262151  \n",
      "self-employed  5170.674384  \n",
      "services       5171.600126  \n",
      "student        5085.939086  \n",
      "technician     5175.648391  \n",
      "unemployed     5157.156509  \n",
      "unknown        5172.931818  \n",
      "Variance\n",
      "                      age      duration  campaign          pdays  previous  \\\n",
      "job                                                                          \n",
      "admin.          79.337338  66684.886445  8.291389   42371.231641  0.276521   \n",
      "blue-collar     77.922915  70607.564995  7.392183   13550.169029  0.140175   \n",
      "entrepreneur    79.403062  70448.152258  7.525871   17307.195238  0.158059   \n",
      "housemaid      116.450425  64426.684444  7.841677   36722.742534  0.209528   \n",
      "management      86.561070  64195.155702  6.840686   34804.632147  0.272632   \n",
      "retired        110.109201  68083.479083  8.395038   90227.998235  0.500707   \n",
      "self-employed   88.781938  86105.710764  8.480639   21753.457965  0.180784   \n",
      "services        81.337832  59629.861146  7.794771   18547.196655  0.190954   \n",
      "student         24.913417  65245.445434  3.118462  132517.449363  0.851512   \n",
      "technician      75.012364  64700.816124  7.575114   33143.700213  0.222118   \n",
      "unemployed      85.877696  69008.577623  7.861139   59270.410051  0.280118   \n",
      "unknown        124.544570  63383.222815  7.675454   56480.004421  0.228323   \n",
      "\n",
      "               emp.var.rate  cons.price.idx  cons.conf.idx  euribor3m  \\\n",
      "job                                                                     \n",
      "admin.             2.626108        0.330983      22.442266   3.136749   \n",
      "blue-collar        2.084261        0.317766      17.107804   2.722645   \n",
      "entrepreneur       2.038192        0.320005      16.067320   2.483943   \n",
      "housemaid          2.230102        0.302103      19.068571   2.563602   \n",
      "management         2.353027        0.323669      21.169721   2.797876   \n",
      "retired            3.457269        0.507481      35.909205   3.815751   \n",
      "self-employed      2.402874        0.327234      20.406823   2.820206   \n",
      "services           2.163692        0.313081      17.499934   2.818299   \n",
      "student            2.248265        0.516210      38.869513   2.544392   \n",
      "technician         2.291772        0.286409      20.701947   2.771851   \n",
      "unemployed         2.727908        0.392000      22.342420   3.180751   \n",
      "unknown            2.616184        0.336246      18.823491   2.813014   \n",
      "\n",
      "               nr.employed  \n",
      "job                         \n",
      "admin.         5779.544253  \n",
      "blue-collar    3530.044485  \n",
      "entrepreneur   3625.435453  \n",
      "housemaid      5115.010396  \n",
      "management     4845.412456  \n",
      "retired        8734.652546  \n",
      "self-employed  4760.743963  \n",
      "services       4117.557407  \n",
      "student        6480.761949  \n",
      "technician     5049.641000  \n",
      "unemployed     6550.687771  \n",
      "unknown        5553.264851  \n"
     ]
    },
    {
     "data": {
      "image/png": "[encoded data removed]",
      "text/plain": [
       "<Figure size 1080x288 with 1 Axes>"
      ]
     },
     "metadata": {
      "needs_background": "light"
     },
     "output_type": "display_data"
    }
   ],
   "source": [
    "# Examen une des variables categorielles\n",
    "print(\"\\n Categories une des variables {}\".format(data[\"job\"].unique()))\n",
    "plt.figure(figsize = (15,4))\n",
    "sb.countplot(x = \"job\", data = data)\n",
    "# analyse statistique selon la variable categorielle\n",
    "print(\"\\n Analyse statistique selon la variable job\")\n",
    "print(\"Moyenne\")\n",
    "print(data.groupby(\"job\").mean())\n",
    "print(\"Variance\")\n",
    "print(data.groupby(\"job\").var())"
   ]
  },
  {
   "cell_type": "code",
   "execution_count": 53,
   "metadata": {},
   "outputs": [
    {
     "name": "stdout",
     "output_type": "stream",
     "text": [
      "\n",
      " Categories une des variables ['may' 'jun' 'jul' 'aug' 'oct' 'nov' 'dec' 'mar' 'apr' 'sep']\n",
      "\n",
      " Analyse statistique selon la variable month\n",
      "Moyenne\n",
      "             age    duration  campaign       pdays  previous  emp.var.rate  \\\n",
      "month                                                                        \n",
      "apr    40.593845  293.200608  1.947188  955.587386  0.323328     -1.800000   \n",
      "aug    41.644221  232.430722  2.666559  961.062156  0.115410      0.747151   \n",
      "dec    47.307692  345.609890  2.159341  748.060440  0.615385     -2.846154   \n",
      "jul    39.035545  273.426122  3.160998  982.700725  0.047115      1.158921   \n",
      "jun    39.766077  242.561301  3.072208  970.221512  0.083114      0.688379   \n",
      "mar    40.778388  245.946886  2.203297  835.454212  0.483516     -1.800000   \n",
      "may    39.031084  261.231752  2.439756  981.120415  0.164209     -0.164972   \n",
      "nov    40.965618  245.855645  1.909290  952.950256  0.293587     -0.418483   \n",
      "oct    44.171309  288.367688  1.545961  781.909471  0.647632     -2.438579   \n",
      "sep    43.621053  297.705263  1.773684  718.501754  0.831579     -2.177368   \n",
      "\n",
      "       cons.price.idx  cons.conf.idx  euribor3m  nr.employed  \n",
      "month                                                         \n",
      "apr         93.119558     -46.273632   1.361070  5093.123708  \n",
      "aug         93.311065     -35.597184   4.300623  5200.248349  \n",
      "dec         92.715363     -33.708791   0.865319  5031.895604  \n",
      "jul         93.894923     -42.370170   4.685678  5214.078575  \n",
      "jun         94.245402     -41.579428   4.256908  5197.493193  \n",
      "mar         93.097330     -42.650549   1.162745  5055.390110  \n",
      "may         93.528882     -40.579272   3.293665  5149.521592  \n",
      "nov         93.200943     -41.238747   3.723123  5173.031236  \n",
      "oct         93.175107     -34.580919   1.200123  5018.823816  \n",
      "sep         93.346474     -33.893158   0.834760  4988.847895  \n",
      "Variance\n",
      "              age      duration   campaign          pdays  previous  \\\n",
      "month                                                                 \n",
      "apr    132.874504  74641.931615   2.176989   41265.545382  0.298688   \n",
      "aug    109.983163  61739.951246   6.520821   36244.651147  0.225791   \n",
      "dec    281.518062  89107.929846   2.421984  187203.195222  0.591585   \n",
      "jul    108.315061  74624.050515  13.960274   15888.498042  0.081706   \n",
      "jun     94.789731  66096.872581  14.068887   27777.223445  0.143175   \n",
      "mar    261.523275  55364.428366   4.378778  135769.859368  0.653856   \n",
      "may     84.524164  61487.148422   5.440171   17430.511501  0.186790   \n",
      "nov     93.144915  69549.905010   1.866892   43661.495574  0.361103   \n",
      "oct    273.712593  97449.038954   0.803324  168639.346047  0.828244   \n",
      "sep    274.889538  74551.719656   1.679798  200230.767132  1.152604   \n",
      "\n",
      "       emp.var.rate  cons.price.idx  cons.conf.idx  euribor3m  nr.employed  \n",
      "month                                                                       \n",
      "apr        0.000000        0.028057       9.650380   0.037027   504.732482  \n",
      "aug        2.241103        0.187746       2.683353   2.276500  4210.220170  \n",
      "dec        0.409350        0.000097       8.688762   0.406437  1219.060312  \n",
      "jul        0.817368        0.055394       2.195887   1.041466  2801.006753  \n",
      "jun        2.393828        0.262382       0.258091   2.120519  4574.823817  \n",
      "mar        0.000000        0.069221      57.803091   0.255541  2044.564196  \n",
      "may        2.068415        0.293996      23.148574   3.167846  2345.317479  \n",
      "nov        0.877990        0.103094      14.168423   1.152119  3932.847992  \n",
      "oct        1.597101        0.959922     103.272369   1.443073  3795.528846  \n",
      "sep        1.319540        0.826246      14.789320   0.002609   724.676700  \n"
     ]
    },
    {
     "data": {
      "image/png": "[encoded data removed]",
      "text/plain": [
       "<Figure size 1080x288 with 1 Axes>"
      ]
     },
     "metadata": {
      "needs_background": "light"
     },
     "output_type": "display_data"
    }
   ],
   "source": [
    "# Examen une des variables categorielles\n",
    "print(\"\\n Categories une des variables {}\".format(data[\"month\"].unique()))\n",
    "plt.figure(figsize = (15,4))\n",
    "sb.countplot(x = \"month\", data = data)\n",
    "# analyse statistique selon la variable categorielle\n",
    "print(\"\\n Analyse statistique selon la variable month\")\n",
    "print(\"Moyenne\")\n",
    "print(data.groupby(\"month\").mean())\n",
    "print(\"Variance\")\n",
    "print(data.groupby(\"month\").var())"
   ]
  },
  {
   "cell_type": "code",
   "execution_count": 55,
   "metadata": {},
   "outputs": [
    {
     "name": "stdout",
     "output_type": "stream",
     "text": [
      "\n",
      " Categories une des variables ['no' 'yes']\n",
      "\n",
      " Analyse statistique selon la variable y\n",
      "Moyenne\n",
      "           age    duration  campaign       pdays  previous  emp.var.rate  \\\n",
      "y                                                                          \n",
      "no   39.911185  220.844807  2.633085  984.113878  0.132374      0.248875   \n",
      "yes  40.913147  553.191164  2.051724  792.035560  0.492672     -1.233448   \n",
      "\n",
      "     cons.price.idx  cons.conf.idx  euribor3m  nr.employed  \n",
      "y                                                           \n",
      "no        93.603757     -40.593097   3.811491  5176.166600  \n",
      "yes       93.354386     -39.789784   2.123135  5095.115991  \n",
      "Variance\n",
      "            age       duration  campaign          pdays  previous  \\\n",
      "y                                                                   \n",
      "no    97.973013   42888.874702  8.256647   14558.079734  0.167444   \n",
      "yes  191.475749  160938.869894  2.776371  162737.353553  0.740192   \n",
      "\n",
      "     emp.var.rate  cons.price.idx  cons.conf.idx  euribor3m  nr.employed  \n",
      "y                                                                         \n",
      "no       2.199086        0.312473      19.282238   2.683658  4169.540468  \n",
      "yes      2.636161        0.457847      37.695520   3.036648  7668.967371  \n"
     ]
    },
    {
     "data": {
      "image/png": "[encoded data removed]",
      "text/plain": [
       "<Figure size 1080x288 with 1 Axes>"
      ]
     },
     "metadata": {
      "needs_background": "light"
     },
     "output_type": "display_data"
    }
   ],
   "source": [
    "# Examen une des variables categorielles\n",
    "print(\"\\n Categories une des variables {}\".format(data[\"y\"].unique()))\n",
    "plt.figure(figsize = (15,4))\n",
    "sb.countplot(x = \"y\", data = data)\n",
    "# analyse statistique selon la variable categorielle\n",
    "print(\"\\n Analyse statistique selon la variable y\")\n",
    "print(\"Moyenne\")\n",
    "print(data.groupby(\"y\").mean())\n",
    "print(\"Variance\")\n",
    "print(data.groupby(\"y\").var())"
   ]
  },
  {
   "cell_type": "code",
   "execution_count": 56,
   "metadata": {},
   "outputs": [
    {
     "name": "stdout",
     "output_type": "stream",
     "text": [
      "no     36548\n",
      "yes     4640\n",
      "Name: y, dtype: int64\n"
     ]
    }
   ],
   "source": [
    "print(data[\"y\"].value_counts())"
   ]
  },
  {
   "cell_type": "markdown",
   "metadata": {},
   "source": [
    "Nous avons 2 classes no et yes. No contient 36548 observations tandis que yes contient 4640 observations."
   ]
  },
  {
   "cell_type": "markdown",
   "metadata": {},
   "source": [
    "## 2.2 - Encodage des variables catégorielles"
   ]
  },
  {
   "cell_type": "markdown",
   "metadata": {},
   "source": [
    "Il n’est pas pratique de mettre en oeuvre des algorithmes de classification de type SVM ou régression logistique sur des variables catégorielles. Il convient de les transformer en valeur numérique. Pour cela nous utilisons le principe du <strong> one hot encoding </strong>."
   ]
  },
  {
   "cell_type": "code",
   "execution_count": 61,
   "metadata": {},
   "outputs": [
    {
     "name": "stdout",
     "output_type": "stream",
     "text": [
      "Avant one-hot encoding\n",
      "Index(['age', 'job', 'marital', 'education', 'default', 'housing', 'loan',\n",
      "       'contact', 'month', 'day_of_week', 'duration', 'campaign', 'pdays',\n",
      "       'previous', 'poutcome', 'emp.var.rate', 'cons.price.idx',\n",
      "       'cons.conf.idx', 'euribor3m', 'nr.employed', 'y'],\n",
      "      dtype='object')\n",
      "(41188, 21)\n",
      "Apres one-hot encoding\n",
      "Index(['age', 'duration', 'campaign', 'pdays', 'previous', 'emp.var.rate',\n",
      "       'cons.price.idx', 'cons.conf.idx', 'euribor3m', 'nr.employed', 'y',\n",
      "       'job_admin.', 'job_blue-collar', 'job_entrepreneur', 'job_housemaid',\n",
      "       'job_management', 'job_retired', 'job_self-employed', 'job_services',\n",
      "       'job_student', 'job_technician', 'job_unemployed', 'job_unknown',\n",
      "       'marital_divorced', 'marital_married', 'marital_single',\n",
      "       'marital_unknown', 'education_basic.4y', 'education_basic.6y',\n",
      "       'education_basic.9y', 'education_high.school', 'education_illiterate',\n",
      "       'education_professional.course', 'education_university.degree',\n",
      "       'education_unknown', 'default_no', 'default_unknown', 'default_yes',\n",
      "       'housing_no', 'housing_unknown', 'housing_yes', 'loan_no',\n",
      "       'loan_unknown', 'loan_yes', 'contact_cellular', 'contact_telephone',\n",
      "       'month_apr', 'month_aug', 'month_dec', 'month_jul', 'month_jun',\n",
      "       'month_mar', 'month_may', 'month_nov', 'month_oct', 'month_sep',\n",
      "       'day_of_week_fri', 'day_of_week_mon', 'day_of_week_thu',\n",
      "       'day_of_week_tue', 'day_of_week_wed', 'poutcome_failure',\n",
      "       'poutcome_nonexistent', 'poutcome_success'],\n",
      "      dtype='object')\n",
      "(41188, 64)\n"
     ]
    }
   ],
   "source": [
    "#%% encoder les labels en utilisant la classe LabelEncoder() de scikit pour avoir des labels numeriques\n",
    "\n",
    "# encodeur\n",
    "encode_lab = LabelEncoder()\n",
    "\n",
    "# encoder d abord les labels en 0 - 1\n",
    "data[\"y\"] = encode_lab.fit_transform(data[\"y\"].values)\n",
    "\n",
    "# encoder en one-hot-encoding les autres variables categorielles\n",
    "print(\"Avant one-hot encoding\")\n",
    "print(data.columns)\n",
    "print(data.shape)\n",
    "\n",
    "# encodage\n",
    "data = pd.get_dummies(data, columns=var_cat)\n",
    "print(\"Apres one-hot encoding\")\n",
    "print(data.columns)\n",
    "print(data.shape)"
   ]
  },
  {
   "cell_type": "code",
   "execution_count": 62,
   "metadata": {},
   "outputs": [
    {
     "data": {
      "text/plain": [
       "LabelEncoder()"
      ]
     },
     "execution_count": 62,
     "metadata": {},
     "output_type": "execute_result"
    }
   ],
   "source": [
    "encode_lab"
   ]
  },
  {
   "cell_type": "code",
   "execution_count": 66,
   "metadata": {},
   "outputs": [
    {
     "data": {
      "text/plain": [
       "0    0\n",
       "1    0\n",
       "2    0\n",
       "3    0\n",
       "4    0\n",
       "Name: y, dtype: int64"
      ]
     },
     "execution_count": 66,
     "metadata": {},
     "output_type": "execute_result"
    }
   ],
   "source": [
    "data[\"y\"].head()"
   ]
  },
  {
   "cell_type": "code",
   "execution_count": 65,
   "metadata": {},
   "outputs": [
    {
     "data": {
      "text/html": [
       "<div>\n",
       "<style scoped>\n",
       "    .dataframe tbody tr th:only-of-type {\n",
       "        vertical-align: middle;\n",
       "    }\n",
       "\n",
       "    .dataframe tbody tr th {\n",
       "        vertical-align: top;\n",
       "    }\n",
       "\n",
       "    .dataframe thead th {\n",
       "        text-align: right;\n",
       "    }\n",
       "</style>\n",
       "<table border=\"1\" class=\"dataframe\">\n",
       "  <thead>\n",
       "    <tr style=\"text-align: right;\">\n",
       "      <th></th>\n",
       "      <th>age</th>\n",
       "      <th>duration</th>\n",
       "      <th>campaign</th>\n",
       "      <th>pdays</th>\n",
       "      <th>previous</th>\n",
       "      <th>emp.var.rate</th>\n",
       "      <th>cons.price.idx</th>\n",
       "      <th>cons.conf.idx</th>\n",
       "      <th>euribor3m</th>\n",
       "      <th>nr.employed</th>\n",
       "      <th>...</th>\n",
       "      <th>month_oct</th>\n",
       "      <th>month_sep</th>\n",
       "      <th>day_of_week_fri</th>\n",
       "      <th>day_of_week_mon</th>\n",
       "      <th>day_of_week_thu</th>\n",
       "      <th>day_of_week_tue</th>\n",
       "      <th>day_of_week_wed</th>\n",
       "      <th>poutcome_failure</th>\n",
       "      <th>poutcome_nonexistent</th>\n",
       "      <th>poutcome_success</th>\n",
       "    </tr>\n",
       "  </thead>\n",
       "  <tbody>\n",
       "    <tr>\n",
       "      <th>0</th>\n",
       "      <td>56</td>\n",
       "      <td>261</td>\n",
       "      <td>1</td>\n",
       "      <td>999</td>\n",
       "      <td>0</td>\n",
       "      <td>1.1</td>\n",
       "      <td>93.994</td>\n",
       "      <td>-36.4</td>\n",
       "      <td>4.857</td>\n",
       "      <td>5191.0</td>\n",
       "      <td>...</td>\n",
       "      <td>0</td>\n",
       "      <td>0</td>\n",
       "      <td>0</td>\n",
       "      <td>1</td>\n",
       "      <td>0</td>\n",
       "      <td>0</td>\n",
       "      <td>0</td>\n",
       "      <td>0</td>\n",
       "      <td>1</td>\n",
       "      <td>0</td>\n",
       "    </tr>\n",
       "    <tr>\n",
       "      <th>1</th>\n",
       "      <td>57</td>\n",
       "      <td>149</td>\n",
       "      <td>1</td>\n",
       "      <td>999</td>\n",
       "      <td>0</td>\n",
       "      <td>1.1</td>\n",
       "      <td>93.994</td>\n",
       "      <td>-36.4</td>\n",
       "      <td>4.857</td>\n",
       "      <td>5191.0</td>\n",
       "      <td>...</td>\n",
       "      <td>0</td>\n",
       "      <td>0</td>\n",
       "      <td>0</td>\n",
       "      <td>1</td>\n",
       "      <td>0</td>\n",
       "      <td>0</td>\n",
       "      <td>0</td>\n",
       "      <td>0</td>\n",
       "      <td>1</td>\n",
       "      <td>0</td>\n",
       "    </tr>\n",
       "    <tr>\n",
       "      <th>2</th>\n",
       "      <td>37</td>\n",
       "      <td>226</td>\n",
       "      <td>1</td>\n",
       "      <td>999</td>\n",
       "      <td>0</td>\n",
       "      <td>1.1</td>\n",
       "      <td>93.994</td>\n",
       "      <td>-36.4</td>\n",
       "      <td>4.857</td>\n",
       "      <td>5191.0</td>\n",
       "      <td>...</td>\n",
       "      <td>0</td>\n",
       "      <td>0</td>\n",
       "      <td>0</td>\n",
       "      <td>1</td>\n",
       "      <td>0</td>\n",
       "      <td>0</td>\n",
       "      <td>0</td>\n",
       "      <td>0</td>\n",
       "      <td>1</td>\n",
       "      <td>0</td>\n",
       "    </tr>\n",
       "    <tr>\n",
       "      <th>3</th>\n",
       "      <td>40</td>\n",
       "      <td>151</td>\n",
       "      <td>1</td>\n",
       "      <td>999</td>\n",
       "      <td>0</td>\n",
       "      <td>1.1</td>\n",
       "      <td>93.994</td>\n",
       "      <td>-36.4</td>\n",
       "      <td>4.857</td>\n",
       "      <td>5191.0</td>\n",
       "      <td>...</td>\n",
       "      <td>0</td>\n",
       "      <td>0</td>\n",
       "      <td>0</td>\n",
       "      <td>1</td>\n",
       "      <td>0</td>\n",
       "      <td>0</td>\n",
       "      <td>0</td>\n",
       "      <td>0</td>\n",
       "      <td>1</td>\n",
       "      <td>0</td>\n",
       "    </tr>\n",
       "    <tr>\n",
       "      <th>4</th>\n",
       "      <td>56</td>\n",
       "      <td>307</td>\n",
       "      <td>1</td>\n",
       "      <td>999</td>\n",
       "      <td>0</td>\n",
       "      <td>1.1</td>\n",
       "      <td>93.994</td>\n",
       "      <td>-36.4</td>\n",
       "      <td>4.857</td>\n",
       "      <td>5191.0</td>\n",
       "      <td>...</td>\n",
       "      <td>0</td>\n",
       "      <td>0</td>\n",
       "      <td>0</td>\n",
       "      <td>1</td>\n",
       "      <td>0</td>\n",
       "      <td>0</td>\n",
       "      <td>0</td>\n",
       "      <td>0</td>\n",
       "      <td>1</td>\n",
       "      <td>0</td>\n",
       "    </tr>\n",
       "  </tbody>\n",
       "</table>\n",
       "<p>5 rows × 64 columns</p>\n",
       "</div>"
      ],
      "text/plain": [
       "   age  duration  campaign  pdays  previous  emp.var.rate  cons.price.idx  \\\n",
       "0   56       261         1    999         0           1.1          93.994   \n",
       "1   57       149         1    999         0           1.1          93.994   \n",
       "2   37       226         1    999         0           1.1          93.994   \n",
       "3   40       151         1    999         0           1.1          93.994   \n",
       "4   56       307         1    999         0           1.1          93.994   \n",
       "\n",
       "   cons.conf.idx  euribor3m  nr.employed  ...  month_oct  month_sep  \\\n",
       "0          -36.4      4.857       5191.0  ...          0          0   \n",
       "1          -36.4      4.857       5191.0  ...          0          0   \n",
       "2          -36.4      4.857       5191.0  ...          0          0   \n",
       "3          -36.4      4.857       5191.0  ...          0          0   \n",
       "4          -36.4      4.857       5191.0  ...          0          0   \n",
       "\n",
       "   day_of_week_fri  day_of_week_mon  day_of_week_thu  day_of_week_tue  \\\n",
       "0                0                1                0                0   \n",
       "1                0                1                0                0   \n",
       "2                0                1                0                0   \n",
       "3                0                1                0                0   \n",
       "4                0                1                0                0   \n",
       "\n",
       "   day_of_week_wed  poutcome_failure  poutcome_nonexistent  poutcome_success  \n",
       "0                0                 0                     1                 0  \n",
       "1                0                 0                     1                 0  \n",
       "2                0                 0                     1                 0  \n",
       "3                0                 0                     1                 0  \n",
       "4                0                 0                     1                 0  \n",
       "\n",
       "[5 rows x 64 columns]"
      ]
     },
     "execution_count": 65,
     "metadata": {},
     "output_type": "execute_result"
    }
   ],
   "source": [
    "data.head()"
   ]
  },
  {
   "cell_type": "markdown",
   "metadata": {},
   "source": [
    "On obtient alors un nombre de colonnes égales aux colonnes numériques + la somme des modalités des variables catégorielles.\n"
   ]
  },
  {
   "cell_type": "markdown",
   "metadata": {},
   "source": [
    "## 2.3 - Réalisation de la classification"
   ]
  },
  {
   "cell_type": "code",
   "execution_count": 67,
   "metadata": {},
   "outputs": [],
   "source": [
    "Y = data[\"y\"].values\n",
    "X = data.drop(\"y\", axis=1).values #on selectionne toutes les variables sauf y et on les affecte à X"
   ]
  },
  {
   "cell_type": "code",
   "execution_count": 86,
   "metadata": {},
   "outputs": [
    {
     "name": "stdout",
     "output_type": "stream",
     "text": [
      "[0 1]\n",
      "0    36548\n",
      "1     4640\n",
      "Name: 0, dtype: int64\n"
     ]
    }
   ],
   "source": [
    "dfY = pd.DataFrame(Y)\n",
    "print(dfY[0].unique())\n",
    "print((dfY[0].value_counts()))"
   ]
  },
  {
   "cell_type": "markdown",
   "metadata": {},
   "source": [
    "## METHODE 1 : LDA & QDA"
   ]
  },
  {
   "cell_type": "markdown",
   "metadata": {},
   "source": [
    "### Découpage des données en apprentissge et test et normalisation"
   ]
  },
  {
   "cell_type": "code",
   "execution_count": 88,
   "metadata": {},
   "outputs": [],
   "source": [
    "# Découpage du jeu de données en apprentissage et test\n",
    "Xa, Xt, Ya, Yt = train_test_split(X, Y, shuffle=True, test_size=0.4, stratify=Y)"
   ]
  },
  {
   "cell_type": "code",
   "execution_count": 89,
   "metadata": {},
   "outputs": [],
   "source": [
    "# Normalisation des données \n",
    "sc = StandardScaler()\n",
    "sc = sc.fit(Xa)\n",
    "Xa = sc.transform(Xa)\n",
    "Xt = sc.transform(Xt)"
   ]
  },
  {
   "cell_type": "markdown",
   "metadata": {},
   "source": [
    "### LDA, QDA et calcul des erreurs de classification sur les données d'apprentissage et de test"
   ]
  },
  {
   "cell_type": "code",
   "execution_count": 90,
   "metadata": {},
   "outputs": [
    {
     "name": "stderr",
     "output_type": "stream",
     "text": [
      "/anaconda3/lib/python3.7/site-packages/sklearn/discriminant_analysis.py:388: UserWarning: Variables are collinear.\n",
      "  warnings.warn(\"Variables are collinear.\")\n"
     ]
    },
    {
     "name": "stdout",
     "output_type": "stream",
     "text": [
      "LDA : taux derreur apprentissage = 9.015862738750405%\n",
      "LDA : taux derreur test= 9.04952658412236%\n",
      "\n",
      " \n",
      "\n"
     ]
    },
    {
     "name": "stderr",
     "output_type": "stream",
     "text": [
      "/anaconda3/lib/python3.7/site-packages/sklearn/discriminant_analysis.py:692: UserWarning: Variables are collinear\n",
      "  warnings.warn(\"Variables are collinear\")\n",
      "/anaconda3/lib/python3.7/site-packages/sklearn/discriminant_analysis.py:692: UserWarning: Variables are collinear\n",
      "  warnings.warn(\"Variables are collinear\")\n"
     ]
    },
    {
     "name": "stdout",
     "output_type": "stream",
     "text": [
      "QDA : taux derreur apprentissage = 37.94108125606993%\n",
      "QDA : taux derreur test = 38.3709638261714%\n"
     ]
    }
   ],
   "source": [
    "# LDA sur données d'apprentissage et test et calculs d'erreur de classification\n",
    "\n",
    "# LDA\n",
    "clf_lda = LinearDiscriminantAnalysis(solver='svd', store_covariance = False)\n",
    "clf_lda.fit(Xa, Ya)\n",
    "Y_lda = clf_lda.predict(Xa)\n",
    "err_lda = sum(Y_lda != Ya)/Ya.size\n",
    "print('LDA : taux d''erreur apprentissage = {}%'.format(100*err_lda))\n",
    "Y_ldat = clf_lda.predict(Xt)\n",
    "err_ldat = sum(Y_ldat != Yt)/Yt.size\n",
    "print('LDA : taux d''erreur test= {}%'.format(100*err_ldat))\n",
    "\n",
    "print('\\n \\n')\n",
    "# QDA\n",
    "clf_qda = QuadraticDiscriminantAnalysis(store_covariance = False)\n",
    "clf_qda.fit(Xa, Ya)\n",
    "Y_qda = clf_qda.predict(Xa)\n",
    "err_qda = sum(Y_qda!= Ya)/Ya.size\n",
    "print('QDA : taux d''erreur apprentissage = {}%'.format(100*err_qda))\n",
    "Y_qdat = clf_qda.predict(Xt)\n",
    "err_qdat = sum(Y_qdat!= Yt)/Yt.size\n",
    "print('QDA : taux d''erreur test = {}%'.format(100*err_qdat))"
   ]
  },
  {
   "cell_type": "markdown",
   "metadata": {},
   "source": [
    "## METHODE 2 : Régression logistique "
   ]
  },
  {
   "cell_type": "markdown",
   "metadata": {},
   "source": [
    "### Découpage des données en apprentissge et test et normalisation"
   ]
  },
  {
   "cell_type": "code",
   "execution_count": 91,
   "metadata": {},
   "outputs": [],
   "source": [
    "# Découpage des données initiales en app et test (proportion à choisir)\n",
    "\n",
    "Xa, Xt, Ya, Yt = train_test_split(X, Y, shuffle=True, test_size =0.3, stratify=Y)\n",
    "\n",
    "# les donnees app sont ensuite re-decoupées en app et validation (proportion au choix)\n",
    "#Xa, Xv, Ya, Yv = train_test_split(Xa, Ya, shuffle=True, test_size=0.3, stratify=Ya)\n",
    "\n",
    "#Normaliser les données\n",
    "sc = StandardScaler(with_mean=True, with_std=True)\n",
    "sc = sc.fit(Xa)\n",
    "Xa = sc.transform(Xa)\n",
    "#Xv = sc.transform(Xv)\n",
    "Xt = sc.transform(Xt)\n"
   ]
  },
  {
   "cell_type": "markdown",
   "metadata": {},
   "source": [
    "### Recherche de la valeur optimale du paramètre de régularisation C avec GridSearchCV"
   ]
  },
  {
   "cell_type": "code",
   "execution_count": 92,
   "metadata": {
    "scrolled": false
   },
   "outputs": [
    {
     "name": "stdout",
     "output_type": "stream",
     "text": [
      "Fitting 10 folds for each of 50 candidates, totalling 500 fits\n"
     ]
    },
    {
     "name": "stderr",
     "output_type": "stream",
     "text": [
      "[Parallel(n_jobs=2)]: Using backend LokyBackend with 2 concurrent workers.\n",
      "[Parallel(n_jobs=2)]: Done  46 tasks      | elapsed:   27.5s\n",
      "[Parallel(n_jobs=2)]: Done 196 tasks      | elapsed:  1.8min\n",
      "[Parallel(n_jobs=2)]: Done 446 tasks      | elapsed:  3.9min\n",
      "[Parallel(n_jobs=2)]: Done 500 out of 500 | elapsed:  4.3min finished\n"
     ]
    },
    {
     "data": {
      "text/plain": [
       "GridSearchCV(cv=10, error_score='raise-deprecating',\n",
       "       estimator=LogisticRegression(C=1.0, class_weight=None, dual=False, fit_intercept=True,\n",
       "          intercept_scaling=1, max_iter=100, multi_class='multinomial',\n",
       "          n_jobs=None, penalty='l2', random_state=None, solver='lbfgs',\n",
       "          tol=1e-05, verbose=0, warm_start=False),\n",
       "       fit_params=None, iid='warn', n_jobs=2,\n",
       "       param_grid=[{'C': array([ 0.1    ,  0.10985,  0.12068,  0.13257,  0.14563,  0.15999,\n",
       "        0.17575,  0.19307,  0.2121 ,  0.233  ,  0.25595,  0.28118,\n",
       "        0.30888,  0.33932,  0.37276,  0.40949,  0.44984,  0.49417,\n",
       "        0.54287,  0.59636,  0.65513,  0.71969,  0.7906 ,  0.86851,\n",
       "        0.9541...87,\n",
       "        5.17947,  5.68987,  6.25055,  6.86649,  7.54312,  8.28643,\n",
       "        9.10298, 10.     ])}],\n",
       "       pre_dispatch='2*n_jobs', refit=True, return_train_score='warn',\n",
       "       scoring='accuracy', verbose=1)"
      ]
     },
     "execution_count": 92,
     "metadata": {},
     "output_type": "execute_result"
    }
   ],
   "source": [
    "# Recherche de la valeur optimale du paramètre de régularisaton C avec GridSearchCV\n",
    "\n",
    "C_grid = np.logspace(-1, 1, 50)\n",
    "\n",
    "#C_grid = [i/100 for i in range (1, 150)]\n",
    "\n",
    "#from sklearn.model_selection import GridSearchCV\n",
    "\n",
    "# the grid\n",
    "parameters = [{\"C\": C_grid}]\n",
    "\n",
    "# the classifier\n",
    "clf_reg = linear_model.LogisticRegression(tol=1e-5, multi_class='multinomial', solver='lbfgs') # solveur par defaut\n",
    "\n",
    "#NB : mutlinomial marche même face à un cas de classification binaire, minimise perte, cf sklearn pour plus d'infos\n",
    "\n",
    "# Perf a K-fold validation using the accuracy as the performance measure\n",
    "K = 10 # feel free to adapt the value of $K$\n",
    "\n",
    "# we will do it on a grid search using n_jobs processors\n",
    "clf_reg = GridSearchCV(clf_reg, param_grid=parameters, cv=K, scoring=\"accuracy\", verbose=1, n_jobs = 2)\n",
    "clf_reg.fit(Xa, Ya)"
   ]
  },
  {
   "cell_type": "markdown",
   "metadata": {},
   "source": [
    "### Calcul des erreurs de classification"
   ]
  },
  {
   "cell_type": "code",
   "execution_count": 93,
   "metadata": {},
   "outputs": [
    {
     "name": "stdout",
     "output_type": "stream",
     "text": [
      "\n",
      "Regression logistique - optimal hyper-parameters = {'C': 0.49417133613238345}\n",
      "Regression logistique - best cross-val accuracy = 0.9107557837050397 \n",
      "\n",
      "Regression logistique : taux derreur apprentissage = 8.868925809025008%\n",
      "Regression logistique : taux derreur test = 8.82900380351218%\n"
     ]
    }
   ],
   "source": [
    "# Calcul des erreurs de classification \n",
    "\n",
    "# Get the best parameters\n",
    "print(\"\\nRegression logistique - optimal hyper-parameters = {}\".format(clf_reg.best_params_))\n",
    "print(\"Regression logistique - best cross-val accuracy = {} \\n\".format(clf_reg.best_score_))\n",
    "\n",
    "y_app_reg = clf_reg.predict(Xa)\n",
    "err_app_reg = sum(y_app_reg != Ya)/Ya.size\n",
    "print('Regression logistique : taux d''erreur apprentissage = {}%'.format(100*err_app_reg))\n",
    "\n",
    "y_test_reg = clf_reg.predict(Xt)\n",
    "err_test_reg = sum(y_test_reg != Yt)/Yt.size\n",
    "print('Regression logistique : taux d''erreur test = {}%'.format(100*err_test_reg))"
   ]
  },
  {
   "cell_type": "markdown",
   "metadata": {},
   "source": [
    "# METHODE 3 : SVM linéaire "
   ]
  },
  {
   "cell_type": "markdown",
   "metadata": {},
   "source": [
    "### Découpage des données en apprentissage et test et normalisation"
   ]
  },
  {
   "cell_type": "code",
   "execution_count": 94,
   "metadata": {},
   "outputs": [],
   "source": [
    "# Découpage des données initiales en app et test (proportion à choisir)\n",
    "\n",
    "Xa, Xt, Ya, Yt = train_test_split(X, Y, shuffle=True, test_size =0.5, stratify=Y)\n",
    "\n",
    "#Normaliser les données\n",
    "sc = StandardScaler(with_mean=True, with_std=True)\n",
    "sc = sc.fit(Xa)\n",
    "Xa = sc.transform(Xa)\n",
    "Xt = sc.transform(Xt)"
   ]
  },
  {
   "cell_type": "markdown",
   "metadata": {},
   "source": [
    "### Recherche de la valeur optimale du paramètre de régularisation C avec GridSearchCV"
   ]
  },
  {
   "cell_type": "code",
   "execution_count": 95,
   "metadata": {},
   "outputs": [
    {
     "name": "stdout",
     "output_type": "stream",
     "text": [
      "Fitting 5 folds for each of 7 candidates, totalling 35 fits\n"
     ]
    },
    {
     "name": "stderr",
     "output_type": "stream",
     "text": [
      "[Parallel(n_jobs=2)]: Using backend LokyBackend with 2 concurrent workers.\n",
      "[Parallel(n_jobs=2)]: Done  35 out of  35 | elapsed: 53.9min finished\n"
     ]
    },
    {
     "data": {
      "text/plain": [
       "GridSearchCV(cv=5, error_score='raise-deprecating',\n",
       "       estimator=SVC(C=1.0, cache_size=200, class_weight=None, coef0=0.0,\n",
       "  decision_function_shape='ovr', degree=3, gamma='auto_deprecated',\n",
       "  kernel='linear', max_iter=-1, probability=True, random_state=None,\n",
       "  shrinking=True, tol=0.001, verbose=False),\n",
       "       fit_params=None, iid='warn', n_jobs=2,\n",
       "       param_grid=[{'C': array([ 0.1    ,  0.21544,  0.46416,  1.     ,  2.15443,  4.64159,\n",
       "       10.     ])}],\n",
       "       pre_dispatch='2*n_jobs', refit=True, return_train_score='warn',\n",
       "       scoring='accuracy', verbose=1)"
      ]
     },
     "execution_count": 95,
     "metadata": {},
     "output_type": "execute_result"
    }
   ],
   "source": [
    "C_grid = np.logspace(-1, 1, 7)\n",
    "#C_grid = [i/100 for i in range (1, 150)]\n",
    "\n",
    "#from sklearn.model_selection import GridSearchCV\n",
    "\n",
    "# the grid\n",
    "parameters = [{\"C\": C_grid}]\n",
    "\n",
    "# the classifier\n",
    "clf_svm_lin = SVC(kernel='linear', probability=True)\n",
    "\n",
    "# Perf a K-fold validation using the accuracy as the performance measure\n",
    "K = 5 # feel free to adapt the value of $K$\n",
    "\n",
    "# we will dot it on a grid search using n_jobs processors\n",
    "clf_svm_lin = GridSearchCV(clf_svm_lin, param_grid=parameters, cv=K, scoring=\"accuracy\", verbose=1, n_jobs = 2)\n",
    "clf_svm_lin.fit(Xa, Ya)"
   ]
  },
  {
   "cell_type": "markdown",
   "metadata": {},
   "source": [
    "### Calcul des erreurs de classification"
   ]
  },
  {
   "cell_type": "code",
   "execution_count": 96,
   "metadata": {},
   "outputs": [
    {
     "name": "stdout",
     "output_type": "stream",
     "text": [
      "\n",
      "SVM linéaire - optimal hyper-parameters = {'C': 10.0}\n",
      "SVM linéaire - best cross-val accuracy = 0.9084684859667864 \n",
      "\n",
      "SVM linéaire : taux derreur apprentissage = 8.813246576672817%\n",
      "SVM linéaire : taux derreur test = 9.42021948140235%\n"
     ]
    }
   ],
   "source": [
    "# Get the best parameters\n",
    "print(\"\\nSVM linéaire - optimal hyper-parameters = {}\".format(clf_svm_lin.best_params_))\n",
    "print(\"SVM linéaire - best cross-val accuracy = {} \\n\".format(clf_svm_lin.best_score_))\n",
    "\n",
    "y_app_svm_lin = clf_reg.predict(Xa)\n",
    "err_app_svm_lin = sum(y_app_svm_lin != Ya)/Ya.size\n",
    "print('SVM linéaire : taux d''erreur apprentissage = {}%'.format(100*err_app_svm_lin))\n",
    "\n",
    "y_test_svm_lin = clf_svm_lin.predict(Xt)\n",
    "err_test_svm_lin = sum(y_test_svm_lin != Yt)/Yt.size\n",
    "print('SVM linéaire : taux d''erreur test = {}%'.format(100*err_test_svm_lin))"
   ]
  },
  {
   "cell_type": "markdown",
   "metadata": {},
   "source": [
    "# METHODE 4 : SVM non-linéaire"
   ]
  },
  {
   "cell_type": "markdown",
   "metadata": {},
   "source": [
    "### Chargement des données et normalisation"
   ]
  },
  {
   "cell_type": "code",
   "execution_count": 97,
   "metadata": {},
   "outputs": [],
   "source": [
    "# Découpage des donnees initiales en app et test (proportion a choisir)\n",
    "Xa, Xt, Ya, Yt = train_test_split(X, Y, shuffle=True, test_size =0.7, stratify=Y)\n",
    "\n",
    "#Normaliser les données\n",
    "sc = StandardScaler(with_mean=True, with_std=True)\n",
    "sc = sc.fit(Xa)\n",
    "Xa = sc.transform(Xa)\n",
    "Xt = sc.transform(Xt)"
   ]
  },
  {
   "cell_type": "markdown",
   "metadata": {},
   "source": [
    "### Recherche des valeurs optimales des paramètres C et gamma avec GridSearchCV"
   ]
  },
  {
   "cell_type": "code",
   "execution_count": 98,
   "metadata": {},
   "outputs": [],
   "source": [
    "gamma_grid = np.logspace(-1.5, 0, 3)\n",
    "C_grid = np.logspace(-1, 1.5, 3)"
   ]
  },
  {
   "cell_type": "code",
   "execution_count": 99,
   "metadata": {},
   "outputs": [
    {
     "name": "stdout",
     "output_type": "stream",
     "text": [
      "Fitting 3 folds for each of 9 candidates, totalling 27 fits\n"
     ]
    },
    {
     "name": "stderr",
     "output_type": "stream",
     "text": [
      "[Parallel(n_jobs=2)]: Using backend LokyBackend with 2 concurrent workers.\n",
      "[Parallel(n_jobs=2)]: Done  27 out of  27 | elapsed: 12.5min finished\n"
     ]
    },
    {
     "data": {
      "text/plain": [
       "GridSearchCV(cv=3, error_score='raise-deprecating',\n",
       "       estimator=SVC(C=1.0, cache_size=1000, class_weight=None, coef0=0.0,\n",
       "  decision_function_shape='ovr', degree=3, gamma='auto_deprecated',\n",
       "  kernel='rbf', max_iter=-1, probability=True, random_state=None,\n",
       "  shrinking=True, tol=0.01, verbose=False),\n",
       "       fit_params=None, iid='warn', n_jobs=2,\n",
       "       param_grid=[{'gamma': array([0.03162, 0.17783, 1.     ]), 'C': array([ 0.1    ,  1.77828, 31.62278])}],\n",
       "       pre_dispatch='2*n_jobs', refit=True, return_train_score='warn',\n",
       "       scoring='accuracy', verbose=1)"
      ]
     },
     "execution_count": 99,
     "metadata": {},
     "output_type": "execute_result"
    }
   ],
   "source": [
    "# the grid\n",
    "parameters = [{\"gamma\": gamma_grid, \"C\": C_grid}]\n",
    "\n",
    "# the classifier\n",
    "clf_svm_rbf = SVC(kernel=\"rbf\", tol=0.01, cache_size = 1000, probability=True)\n",
    "\n",
    "# Perf a K-fold validation using the accuracy as the performance measure\n",
    "K = 3 # feel free to adapt the value of $K$\n",
    "\n",
    "# we will do it on a grid search using n_jobs processors\n",
    "clf_svm_rbf = GridSearchCV(clf_svm_rbf, param_grid=parameters, cv=K, scoring=\"accuracy\", verbose=1, n_jobs = 2)\n",
    "clf_svm_rbf.fit(Xa, Ya)"
   ]
  },
  {
   "cell_type": "markdown",
   "metadata": {},
   "source": [
    "### Calcul des erreurs de classification"
   ]
  },
  {
   "cell_type": "code",
   "execution_count": 100,
   "metadata": {},
   "outputs": [
    {
     "name": "stdout",
     "output_type": "stream",
     "text": [
      "\n",
      "SVM non linéaire - optimal hyper-parameters = {'C': 1.7782794100389228, 'gamma': 0.03162277660168379}\n",
      "SVM non linéaire - best cross-val accuracy = 0.8991583036581418 \n",
      "\n",
      "SVM non linéaire : taux derreur apprentissage = 8.756879248947879%\n",
      "SVM non linéaire : taux derreur test = 10.037458379578245%\n"
     ]
    }
   ],
   "source": [
    "# Get the best parameters\n",
    "print(\"\\nSVM non linéaire - optimal hyper-parameters = {}\".format(clf_svm_rbf.best_params_))\n",
    "print(\"SVM non linéaire - best cross-val accuracy = {} \\n\".format(clf_svm_rbf.best_score_))\n",
    "\n",
    "y_app_svm_rbf = clf_reg.predict(Xa)\n",
    "err_app_svm_rbf = sum(y_app_svm_rbf != Ya)/Ya.size\n",
    "print('SVM non linéaire : taux d''erreur apprentissage = {}%'.format(100*err_app_svm_rbf))\n",
    "\n",
    "y_test_svm_rbf = clf_svm_rbf.predict(Xt)\n",
    "err_test_svm_rbf = sum(y_test_svm_rbf != Yt)/Yt.size\n",
    "print('SVM non linéaire : taux d''erreur test = {}%'.format(100*err_test_svm_rbf))"
   ]
  },
  {
   "cell_type": "markdown",
   "metadata": {},
   "source": [
    "# METHODE 5 : K PPV"
   ]
  },
  {
   "cell_type": "markdown",
   "metadata": {},
   "source": [
    "### Découpage des données initiales en apprentissage et test"
   ]
  },
  {
   "cell_type": "code",
   "execution_count": 101,
   "metadata": {},
   "outputs": [],
   "source": [
    "# decoupage des donnees initiales en app et test (proportion a choisir)\n",
    "Xa, Xt, Ya, Yt = train_test_split(X, Y, shuffle=True, test_size =0.4, stratify=Y)\n",
    "\n",
    "#Normaliser les données\n",
    "sc = StandardScaler(with_mean=True, with_std=True)\n",
    "sc = sc.fit(Xa)\n",
    "Xa = sc.transform(Xa)\n",
    "Xt = sc.transform(Xt)"
   ]
  },
  {
   "cell_type": "markdown",
   "metadata": {},
   "source": [
    "### Kppv et GridSearchCV pour trouver "
   ]
  },
  {
   "cell_type": "code",
   "execution_count": 102,
   "metadata": {},
   "outputs": [
    {
     "name": "stdout",
     "output_type": "stream",
     "text": [
      "Fitting 5 folds for each of 8 candidates, totalling 40 fits\n"
     ]
    },
    {
     "name": "stderr",
     "output_type": "stream",
     "text": [
      "[Parallel(n_jobs=2)]: Using backend LokyBackend with 2 concurrent workers.\n",
      "[Parallel(n_jobs=2)]: Done  40 out of  40 | elapsed: 59.4min finished\n"
     ]
    },
    {
     "data": {
      "text/plain": [
       "GridSearchCV(cv=5, error_score='raise-deprecating',\n",
       "       estimator=KNeighborsClassifier(algorithm='auto', leaf_size=30, metric='minkowski',\n",
       "           metric_params=None, n_jobs=None, n_neighbors=5, p=2,\n",
       "           weights='uniform'),\n",
       "       fit_params=None, iid='warn', n_jobs=2,\n",
       "       param_grid=[{'n_neighbors': [2, 3, 4, 5, 6, 7, 8, 9]}],\n",
       "       pre_dispatch='2*n_jobs', refit=True, return_train_score='warn',\n",
       "       scoring='accuracy', verbose=1)"
      ]
     },
     "execution_count": 102,
     "metadata": {},
     "output_type": "execute_result"
    }
   ],
   "source": [
    "from sklearn.neighbors import KNeighborsClassifier\n",
    "k_values = [k for k in range(2,10)]\n",
    "\n",
    "# the grid\n",
    "parameters = [{\"n_neighbors\": k_values}]\n",
    "\n",
    "# the classifier\n",
    "clf_knn = KNeighborsClassifier()\n",
    "# Perf a K-fold validation using the accuracy as the performance measure\n",
    "K = 5 # feel free to adapt the value of $K$\n",
    "# we will dot it on a grid search using n_jobs processors\n",
    "clf_knn = GridSearchCV(clf_knn, param_grid=parameters, cv=K, scoring=\"accuracy\", verbose=1, n_jobs = 2)\n",
    "clf_knn.fit(Xa, Ya)"
   ]
  },
  {
   "cell_type": "markdown",
   "metadata": {},
   "source": [
    "### Calcul des erreurs de classification"
   ]
  },
  {
   "cell_type": "code",
   "execution_count": 103,
   "metadata": {},
   "outputs": [
    {
     "name": "stdout",
     "output_type": "stream",
     "text": [
      "\n",
      "KNN - optimal hyper-parameters = {'n_neighbors': 9}\n",
      "KNN - best cross-val accuracy = 0.8964875364195533 \n",
      "\n",
      "KNN : taux derreur apprentissage = 9.064422143088379%\n",
      "KNN : taux derreur test = 10.257344015537752%\n"
     ]
    }
   ],
   "source": [
    "# Get the best parameters\n",
    "print(\"\\nKNN - optimal hyper-parameters = {}\".format(clf_knn.best_params_))\n",
    "print(\"KNN - best cross-val accuracy = {} \\n\".format(clf_knn.best_score_))\n",
    "\n",
    "y_app_knn = clf_knn.predict(Xa)\n",
    "err_app_knn = sum(y_app_knn != Ya)/Ya.size\n",
    "print('KNN : taux d''erreur apprentissage = {}%'.format(100*err_app_knn))\n",
    "\n",
    "y_test_knn = clf_knn.predict(Xt)\n",
    "err_test_knn = sum(y_test_knn != Yt)/Yt.size\n",
    "print('KNN : taux d''erreur test = {}%'.format(100*err_test_knn))"
   ]
  },
  {
   "cell_type": "markdown",
   "metadata": {},
   "source": [
    "# Comparaison des modèles"
   ]
  },
  {
   "cell_type": "markdown",
   "metadata": {},
   "source": [
    "On split de nouveau les variables pour séléctionner un échantillon test sur lesquelles nous allons faire des prédictions avec les modèles entraînés. On pourrait l'appliquer sur toutes les variables mais le temps de calcul est trop long. "
   ]
  },
  {
   "cell_type": "markdown",
   "metadata": {},
   "source": [
    "### Découpage des données initiales en apprentissage et test"
   ]
  },
  {
   "cell_type": "code",
   "execution_count": 106,
   "metadata": {},
   "outputs": [],
   "source": [
    "# decoupage des donnees initiales en app et test (proportion a choisir)\n",
    "Xa, Xt, Ya, Yt = train_test_split(X, Y, shuffle=True, test_size =0.5, stratify=Y)\n",
    "\n",
    "#Normaliser les données\n",
    "sc = StandardScaler(with_mean=True, with_std=True)\n",
    "sc = sc.fit(Xa)\n",
    "Xa = sc.transform(Xa)\n",
    "Xt = sc.transform(Xt)"
   ]
  },
  {
   "cell_type": "markdown",
   "metadata": {},
   "source": [
    "# Prédiction sur les données de test et matrice de confusion"
   ]
  },
  {
   "cell_type": "code",
   "execution_count": 110,
   "metadata": {},
   "outputs": [],
   "source": [
    "Y_ldat = clf_lda.predict(Xt)\n",
    "Y_qdat = clf_qda.predict(Xt)\n",
    "y_test_reg = clf_reg.predict(Xt)\n",
    "y_test_svm_lin = clf_svm_lin.predict(Xt)\n",
    "y_test_svm_rbf = clf_svm_rbf.predict(Xt)\n",
    "y_test_knn = clf_knn.predict(Xt)\n",
    "\n",
    "\n",
    "# matrices de confusion\n",
    "confmat1 = confusion_matrix(y_true=Yt, y_pred=Y_ldat)\n",
    "confmat2 = confusion_matrix(y_true=Yt, y_pred=Y_qdat)\n",
    "confmat3 = confusion_matrix(y_true=Yt, y_pred=y_test_reg)\n",
    "confmat4 = confusion_matrix(y_true=Yt, y_pred=y_test_svm_lin)\n",
    "confmat5 = confusion_matrix(y_true=Yt, y_pred=y_test_svm_rbf)\n",
    "confmat6 = confusion_matrix(y_true=Yt, y_pred=y_test_knn)"
   ]
  },
  {
   "cell_type": "code",
   "execution_count": 112,
   "metadata": {
    "scrolled": false
   },
   "outputs": [
    {
     "data": {
      "image/png": "[encoded data removed]",
      "text/plain": [
       "<Figure size 1440x1080 with 6 Axes>"
      ]
     },
     "metadata": {
      "needs_background": "light"
     },
     "output_type": "display_data"
    },
    {
     "data": {
      "text/html": [
       "<div>\n",
       "<style scoped>\n",
       "    .dataframe tbody tr th:only-of-type {\n",
       "        vertical-align: middle;\n",
       "    }\n",
       "\n",
       "    .dataframe tbody tr th {\n",
       "        vertical-align: top;\n",
       "    }\n",
       "\n",
       "    .dataframe thead th {\n",
       "        text-align: right;\n",
       "    }\n",
       "</style>\n",
       "<table border=\"1\" class=\"dataframe\">\n",
       "  <thead>\n",
       "    <tr style=\"text-align: right;\">\n",
       "      <th></th>\n",
       "      <th>LDA</th>\n",
       "      <th>QDA</th>\n",
       "      <th>Reg. Log</th>\n",
       "      <th>SVM lin</th>\n",
       "      <th>SVM non lin</th>\n",
       "      <th>KNN</th>\n",
       "    </tr>\n",
       "  </thead>\n",
       "  <tbody>\n",
       "    <tr>\n",
       "      <th>Accuracy</th>\n",
       "      <td>0.909682</td>\n",
       "      <td>0.456152</td>\n",
       "      <td>0.912207</td>\n",
       "      <td>0.908226</td>\n",
       "      <td>0.922453</td>\n",
       "      <td>0.905604</td>\n",
       "    </tr>\n",
       "    <tr>\n",
       "      <th>Precision</th>\n",
       "      <td>0.612856</td>\n",
       "      <td>0.122706</td>\n",
       "      <td>0.666450</td>\n",
       "      <td>0.669291</td>\n",
       "      <td>0.714795</td>\n",
       "      <td>0.666078</td>\n",
       "    </tr>\n",
       "    <tr>\n",
       "      <th>Recall</th>\n",
       "      <td>0.538362</td>\n",
       "      <td>0.622414</td>\n",
       "      <td>0.441810</td>\n",
       "      <td>0.366379</td>\n",
       "      <td>0.518534</td>\n",
       "      <td>0.325000</td>\n",
       "    </tr>\n",
       "    <tr>\n",
       "      <th>F-mesure</th>\n",
       "      <td>0.573199</td>\n",
       "      <td>0.531363</td>\n",
       "      <td>0.531363</td>\n",
       "      <td>0.473538</td>\n",
       "      <td>0.601049</td>\n",
       "      <td>0.436848</td>\n",
       "    </tr>\n",
       "  </tbody>\n",
       "</table>\n",
       "</div>"
      ],
      "text/plain": [
       "                LDA       QDA  Reg. Log   SVM lin  SVM non lin       KNN\n",
       "Accuracy   0.909682  0.456152  0.912207  0.908226     0.922453  0.905604\n",
       "Precision  0.612856  0.122706  0.666450  0.669291     0.714795  0.666078\n",
       "Recall     0.538362  0.622414  0.441810  0.366379     0.518534  0.325000\n",
       "F-mesure   0.573199  0.531363  0.531363  0.473538     0.601049  0.436848"
      ]
     },
     "execution_count": 112,
     "metadata": {},
     "output_type": "execute_result"
    }
   ],
   "source": [
    "import matplotlib.pyplot as plt\n",
    "\n",
    "fig, (ax1, ax2, ax3, ax4, ax5, ax6) = plt.subplots(1, 6,figsize=(20,15))\n",
    "\n",
    "ax1.matshow(confmat1, cmap=plt.cm.Blues, alpha=0.3)\n",
    "ax2.matshow(confmat2, cmap=plt.cm.Blues, alpha=0.3)\n",
    "ax3.matshow(confmat3, cmap=plt.cm.Blues, alpha=0.3)\n",
    "ax4.matshow(confmat4, cmap=plt.cm.Blues, alpha=0.3)\n",
    "ax5.matshow(confmat5, cmap=plt.cm.Blues, alpha=0.3)\n",
    "ax6.matshow(confmat6, cmap=plt.cm.Blues, alpha=0.3)\n",
    "\n",
    "for i in range(confmat1.shape[0]):\n",
    "    for j in range(confmat1.shape[1]):\n",
    "        ax1.text(x=j, y=i, s=confmat1[i, j], va=\"center\", ha=\"center\")\n",
    "ax1.set(xlabel='Label predit', ylabel='Vrai label')\n",
    "ax1.set_title('LDA')\n",
    "\n",
    "for i in range(confmat2.shape[0]):\n",
    "    for j in range(confmat2.shape[1]):\n",
    "        ax2.text(x=j, y=i, s=confmat2[i, j], va=\"center\", ha=\"center\")\n",
    "ax2.set(xlabel='Label predit', ylabel='Vrai label')\n",
    "ax2.set_title('QDA')\n",
    "\n",
    "for i in range(confmat3.shape[0]):\n",
    "    for j in range(confmat3.shape[1]):\n",
    "        ax3.text(x=j, y=i, s=confmat3[i, j], va=\"center\", ha=\"center\")\n",
    "ax3.set(xlabel='Label predit', ylabel='Vrai label')\n",
    "ax3.set_title('Régression logistique')\n",
    "\n",
    "for i in range(confmat4.shape[0]):\n",
    "    for j in range(confmat4.shape[1]):\n",
    "        ax4.text(x=j, y=i, s=confmat4[i, j], va=\"center\", ha=\"center\")\n",
    "ax4.set(xlabel='Label predit', ylabel='Vrai label')\n",
    "ax4.set_title('SVM linéaire')\n",
    "\n",
    "for i in range(confmat5.shape[0]):\n",
    "    for j in range(confmat5.shape[1]):\n",
    "        ax5.text(x=j, y=i, s=confmat5[i, j], va=\"center\", ha=\"center\")\n",
    "ax5.set(xlabel='Label predit', ylabel='Vrai label')\n",
    "ax5.set_title('SVM non linéaire')\n",
    "\n",
    "for i in range(confmat6.shape[0]):\n",
    "    for j in range(confmat6.shape[1]):\n",
    "        ax6.text(x=j, y=i, s=confmat6[i, j], va=\"center\", ha=\"center\")\n",
    "ax6.set(xlabel='Label predit', ylabel='Vrai label')\n",
    "ax6.set_title('KNN')\n",
    "\n",
    "plt.show()\n",
    "\n",
    "import pandas as pd\n",
    "from sklearn.metrics import accuracy_score\n",
    "from sklearn.metrics import precision_score\n",
    "from sklearn.metrics import recall_score\n",
    "from sklearn.metrics import f1_score\n",
    "from sklearn.metrics import cohen_kappa_score\n",
    "from sklearn.metrics import roc_auc_score\n",
    "\n",
    "# accuracy: (tp + tn) / (p + n)\n",
    "# precision tp / (tp + fp)\n",
    "# recall: tp / (tp + fn)\n",
    "# f1: 2 tp / (2 tp + fp + fn)\n",
    "\n",
    "accuracy_lda = accuracy_score(Yt, Y_ldat)\n",
    "precision_lda = precision_score(Yt, Y_ldat)\n",
    "recall_lda = recall_score(Yt, Y_ldat)\n",
    "f1_lda = f1_score(Yt, Y_ldat)\n",
    "\n",
    "accuracy_qda = accuracy_score(Yt, Y_qdat)\n",
    "precision_qda = precision_score(Yt, Y_qdat)\n",
    "recall_qda = recall_score(Yt, Y_qdat)\n",
    "f1_qda = f1_score(Yt, Y_qdat)\n",
    "\n",
    "accuracy_reg = accuracy_score(Yt, y_test_reg)\n",
    "precision_reg = precision_score(Yt, y_test_reg)\n",
    "recall_reg = recall_score(Yt, y_test_reg)\n",
    "f1_reg = f1_score(Yt, y_test_reg)\n",
    "\n",
    "accuracy_svn_lin = accuracy_score(Yt, y_test_svm_lin)\n",
    "precision_svn_lin = precision_score(Yt, y_test_svm_lin)\n",
    "recall_svn_lin = recall_score(Yt, y_test_svm_lin)\n",
    "f1_svn_lin = f1_score(Yt, y_test_svm_lin)\n",
    "\n",
    "accuracy_svn_rbf = accuracy_score(Yt, y_test_svm_rbf)\n",
    "precision_svn_rbf = precision_score(Yt, y_test_svm_rbf)\n",
    "recall_svn_rbf = recall_score(Yt, y_test_svm_rbf)\n",
    "f1_svn_rbf = f1_score(Yt, y_test_svm_rbf)\n",
    "\n",
    "accuracy_knn = accuracy_score(Yt, y_test_knn)\n",
    "precision_knn = precision_score(Yt, y_test_knn)\n",
    "recall_knn = recall_score(Yt, y_test_knn)\n",
    "f1_knn = f1_score(Yt, y_test_knn)\n",
    "\n",
    "resultats = {'LDA':[accuracy_lda, precision_lda, recall_lda, f1_lda],\n",
    "        'QDA':[accuracy_qda, precision_qda, recall_qda, f1_reg],\n",
    "        'Reg. Log':[accuracy_reg, precision_reg, recall_reg, f1_reg],\n",
    "        'SVM lin':[accuracy_svn_lin, precision_svn_lin, recall_svn_lin, f1_svn_lin], \n",
    "        'SVM non lin':[accuracy_svn_rbf, precision_svn_rbf, recall_svn_rbf, f1_svn_rbf], \n",
    "        'KNN':[accuracy_knn, precision_knn, recall_knn, f1_knn]}\n",
    "\n",
    "df_res = pd.DataFrame(resultats, index= ['Accuracy', 'Precision', 'Recall', 'F-mesure'])\n",
    "df_res\n"
   ]
  },
  {
   "cell_type": "markdown",
   "metadata": {},
   "source": [
    "Commentaires :\n",
    "- Le modèle QDA identifie correctement 62% des prospects qui souscrivent à l’ouverture d’un compte.\n",
    "- Pour évaluer les performances d'un modèle de façon complète, vous devez analyser à la fois la précision et le rappel. Malheureusement, précision et rappel sont fréquemment en tension. Ceci est dû au fait que l'amélioration de la précision se fait généralement au détriment du rappel et réciproquement. Différents outils statistiques ont été créés pour évaluer simultanément la précision et le rappel. La F-mesure en fait partie.\n",
    "- Si on se base sur la F1-mesure et l'Accuracy, c'est la SVM non-linéaire qui est le meilleur classifieur."
   ]
  },
  {
   "cell_type": "markdown",
   "metadata": {},
   "source": [
    "Métriques : \n",
    "- Accuracy_score : ??\n",
    "- Precision_score : pas toujours la métrique du modèle global à utiliser lors de la sélection du meilleur modèle  \n",
    "- Recall_score : \n",
    "- F1_score : fonction de la précision et du recall à utiliser sir nous devons chercher un équilibre entre précision et rappel"
   ]
  },
  {
   "cell_type": "code",
   "execution_count": 115,
   "metadata": {
    "scrolled": false
   },
   "outputs": [
    {
     "name": "stdout",
     "output_type": "stream",
     "text": [
      "0\n"
     ]
    },
    {
     "data": {
      "image/png": "[encoded data removed]",
      "text/plain": [
       "<Figure size 1152x864 with 1 Axes>"
      ]
     },
     "metadata": {
      "needs_background": "light"
     },
     "output_type": "display_data"
    },
    {
     "name": "stdout",
     "output_type": "stream",
     "text": [
      "1\n"
     ]
    },
    {
     "data": {
      "image/png": "[encoded data removed]",
      "text/plain": [
       "<Figure size 1152x864 with 1 Axes>"
      ]
     },
     "metadata": {
      "needs_background": "light"
     },
     "output_type": "display_data"
    },
    {
     "name": "stdout",
     "output_type": "stream",
     "text": [
      "2\n"
     ]
    },
    {
     "data": {
      "image/png": "[encoded data removed]",
      "text/plain": [
       "<Figure size 1152x864 with 1 Axes>"
      ]
     },
     "metadata": {
      "needs_background": "light"
     },
     "output_type": "display_data"
    },
    {
     "name": "stdout",
     "output_type": "stream",
     "text": [
      "3\n"
     ]
    },
    {
     "data": {
      "image/png": "[encoded data removed]",
      "text/plain": [
       "<Figure size 1152x864 with 1 Axes>"
      ]
     },
     "metadata": {
      "needs_background": "light"
     },
     "output_type": "display_data"
    },
    {
     "name": "stdout",
     "output_type": "stream",
     "text": [
      "4\n"
     ]
    },
    {
     "data": {
      "image/png": "[encoded data removed]",
      "text/plain": [
       "<Figure size 1152x864 with 1 Axes>"
      ]
     },
     "metadata": {
      "needs_background": "light"
     },
     "output_type": "display_data"
    },
    {
     "name": "stdout",
     "output_type": "stream",
     "text": [
      "5\n"
     ]
    },
    {
     "data": {
      "image/png": "[encoded data removed]",
      "text/plain": [
       "<Figure size 1152x864 with 1 Axes>"
      ]
     },
     "metadata": {
      "needs_background": "light"
     },
     "output_type": "display_data"
    }
   ],
   "source": [
    "from sklearn.metrics import roc_curve #voir a quoi correspodnent chacune des metriques\n",
    "from sklearn.metrics import roc_auc_score\n",
    "\n",
    "\n",
    "def plot_roc_curve(fpr, tpr, AUC, modele): \n",
    "    plt.plot(fpr, tpr, color='orange', label='ROC - AUC = ' + str(round(AUC,2)))\n",
    "    plt.plot([0, 1], [0, 1], color='darkblue', linestyle='--')\n",
    "    plt.xlabel('False Positive Rate')\n",
    "    plt.ylabel('True Positive Rate')\n",
    "    plt.title('Receiver Operating Characteristic (ROC) Curve - ' + modele)\n",
    "    plt.legend()\n",
    "    plt.show()\n",
    "    \n",
    "#fpr : false positive rate\n",
    "#tpr : true positive rate\n",
    "    \n",
    "Y_ldat_proba = clf_lda.predict_proba(Xt)\n",
    "Y_qdat_proba = clf_qda.predict_proba(Xt)\n",
    "y_test_reg_proba = clf_reg.predict_proba(Xt)\n",
    "y_test_svm_lin_proba = clf_svm_lin.predict_proba(Xt)\n",
    "y_test_svm_rbf_proba = clf_svm_rbf.predict_proba(Xt)\n",
    "y_test_knn_proba = clf_knn.predict_proba(Xt)\n",
    "\n",
    "modele = [\"LDA\", \"QDA\", \"Reg. Log\", \"SVM Lin\", \"SVM non lin\", \"KNN\"]\n",
    "res = [Y_ldat_proba[:,1], Y_qdat_proba[:,1], y_test_reg_proba[:,1], y_test_svm_lin_proba[:,1], y_test_svm_rbf_proba[:,1], y_test_knn_proba[:,1]]\n",
    "\n",
    "for i, nom_modele in enumerate(modele): \n",
    "    print(i)\n",
    "    auc = roc_auc_score(Yt, res[i])    \n",
    "    fpr, tpr, thresholds = roc_curve(Yt, res[i])\n",
    "    plt.figure(figsize=(16, 12))\n",
    "    plt.subplot(3,2,i+1)\n",
    "    plot_roc_curve(fpr, tpr, auc, nom_modele)"
   ]
  },
  {
   "cell_type": "markdown",
   "metadata": {},
   "source": [
    "On peut constater graphiquement que c'est la SVM non-linéaire qui donne les meilleurs résultats car la courbe se rapproche de (1,1) classifieur idéal et c'est le graphique ayant l'aire le plus grand."
   ]
  },
  {
   "cell_type": "markdown",
   "metadata": {},
   "source": [
    "Nous allons comparer les modèles LDA, regréssion logistique et SVM non linéaire.\n"
   ]
  },
  {
   "cell_type": "code",
   "execution_count": 116,
   "metadata": {
    "scrolled": false
   },
   "outputs": [
    {
     "data": {
      "text/html": [
       "<div>\n",
       "<style scoped>\n",
       "    .dataframe tbody tr th:only-of-type {\n",
       "        vertical-align: middle;\n",
       "    }\n",
       "\n",
       "    .dataframe tbody tr th {\n",
       "        vertical-align: top;\n",
       "    }\n",
       "\n",
       "    .dataframe thead th {\n",
       "        text-align: right;\n",
       "    }\n",
       "</style>\n",
       "<table border=\"1\" class=\"dataframe\">\n",
       "  <thead>\n",
       "    <tr style=\"text-align: right;\">\n",
       "      <th></th>\n",
       "      <th>LDA / Reg. log</th>\n",
       "      <th>LDA / SVM non lin</th>\n",
       "      <th>Reg. Log / SVM non lin</th>\n",
       "    </tr>\n",
       "  </thead>\n",
       "  <tbody>\n",
       "    <tr>\n",
       "      <th>Statistic</th>\n",
       "      <td>2.100000e+01</td>\n",
       "      <td>4.510000e+02</td>\n",
       "      <td>511.000000</td>\n",
       "    </tr>\n",
       "    <tr>\n",
       "      <th>p-value</th>\n",
       "      <td>4.963375e-126</td>\n",
       "      <td>9.003419e-24</td>\n",
       "      <td>0.000024</td>\n",
       "    </tr>\n",
       "  </tbody>\n",
       "</table>\n",
       "</div>"
      ],
      "text/plain": [
       "           LDA / Reg. log  LDA / SVM non lin  Reg. Log / SVM non lin\n",
       "Statistic    2.100000e+01       4.510000e+02              511.000000\n",
       "p-value     4.963375e-126       9.003419e-24                0.000024"
      ]
     },
     "execution_count": 116,
     "metadata": {},
     "output_type": "execute_result"
    }
   ],
   "source": [
    "from sklearn.metrics.cluster import contingency_matrix\n",
    "from statsmodels.stats.contingency_tables import mcnemar #voir à quoi sert le test de mcnemar\n",
    "\n",
    "TC_LDA_REGLOG = contingency_matrix(Y_ldat, y_test_reg )\n",
    "TC_LDA_SVM_NL = contingency_matrix(Y_ldat, y_test_svm_rbf )\n",
    "TC_REGLOG_SVM_NL = contingency_matrix(y_test_reg, y_test_svm_rbf )\n",
    "\n",
    "result_LDA_REGLOG = mcnemar(TC_LDA_REGLOG, exact=True)\n",
    "result_LDA_SVM_NL = mcnemar(TC_LDA_SVM_NL, exact=True)\n",
    "result_REGLOG_SVM_NL = mcnemar(TC_REGLOG_SVM_NL, exact=True)\n",
    "\n",
    "resultats = {'LDA / Reg. log':[result_LDA_REGLOG.statistic, result_LDA_REGLOG.pvalue],\n",
    "        'LDA / SVM non lin':[result_LDA_SVM_NL.statistic, result_LDA_SVM_NL.pvalue],\n",
    "        'Reg. Log / SVM non lin':[result_REGLOG_SVM_NL.statistic, result_REGLOG_SVM_NL.pvalue]}\n",
    "\n",
    "df_res = pd.DataFrame(resultats, index= ['Statistic', 'p-value'])\n",
    "df_res"
   ]
  },
  {
   "cell_type": "markdown",
   "metadata": {},
   "source": [
    "Les 3 p values sont inférieurs à 0.05, ce qui veut dire que l'hypothèse nulle H0 est rejetée. Pour rappel (cf ci-dessous pour plus de détails, H0 : les 2 classifieurs ot une proportion d'erreurs similaire sur l'ensemble de test."
   ]
  },
  {
   "cell_type": "markdown",
   "metadata": {},
   "source": [
    "### Aparté : métriques "
   ]
  },
  {
   "cell_type": "markdown",
   "metadata": {},
   "source": [
    "- Courbe ROC (Receiving Operator Characteristic) : communément utilisé pour mesurer la performance d'un classifieur binaire.\n",
    "- les courbes ROC furent inventées pendant la seconde Guerre mondiale pour montrer la séparation entre les signaux radar et le bruit de fond\n",
    "- La courbe ROC est un système qui a pour objectif de catégoriser des éléments en deux groupes distincts sur la base d'une ou plusieurs des caractéristiques de chacun de ces éléments.\n",
    "- Graphiquement, on représente souvent la mesure ROC sous la forme d'une courbe qui donne le taux de vrais positifs (fraction de positifs qui sont correctement détectés) en fonction du taux de faux positifs (fraction des négatifs qui sont incorrectement détectés)\n",
    "- La courbe ROC introduit aussi des termes comme precision, rappel, AUC.    "
   ]
  },
  {
   "cell_type": "markdown",
   "metadata": {},
   "source": [
    "### Interprétation courbe ROC  (Receiving Operator Characteristic)\n"
   ]
  },
  {
   "cell_type": "markdown",
   "metadata": {},
   "source": [
    "<strong> <font color=\"red\"> Plus une courbe se rapproche du point parfait (precision, recall) = (1,1), meileur sera le classifieur. (et plus grande sera l'aire du graphique)"
   ]
  },
  {
   "cell_type": "markdown",
   "metadata": {},
   "source": [
    "- à (0,0), le classifieur déclare toujours négatif (TN ou FN, il n'y a pas de TP ou FP)\n",
    "- à (1,1), le classifieur déclare toujours positif (TP ou FP, il n'y a pas de TN ou FN)\n",
    "- à (0,1), le classifieur n'a aucun FAUX (FP ou FN), et est parfaitement exact, ne se trompant jamais\n",
    "- à (1,0), le classifieur n'a aucun VRAI (TP ou TN), et est parfaitement inexact, se trompant toujours, il suffit de calculer son inverse pour avoir un classifieur parfaitement exact\n",
    "- Le classifieur idéal passe par les 3 points suivants (0,0), (0,1), (1,1) et fait un moitié de carré\n",
    "- Interprétation courbe ROC : plus la courbe ROC se rapproche du classifieur idéal, plus l'aire du graphique est grande, plus le classifieur est performant.\n",
    "- DOMAINE MEDICAL : l'intérêt de la courve ROC dans le domaine médical a été souligné depuis 1960. Cet outil statistique a été utilisé notamment dans le domaine pharmaceutique, en radiologie et en biologie. \n",
    "- La courbe ROC s'est imposée en biologie clinique depuis plusieurs années . Elle permet la détermination et la comparaison des performances diagnostiques de plusieurs tests à l'aide de l'évaluation des aires sous la courbe. Elle est aussi utilisée pour estimer la valeur seuil optimale d'un test en tenant compte des données épidémiologiques et médico-économiques de la maladie.\n"
   ]
  },
  {
   "cell_type": "markdown",
   "metadata": {},
   "source": [
    "### Précision et rappel"
   ]
  },
  {
   "cell_type": "markdown",
   "metadata": {},
   "source": [
    "- précision : combien de candidats sélectionnés sont pertinents\n",
    "- rappel (=sensibilité) : combien d'éléments pertinents sont sélectionnées \n",
    "- éléments pertinents = faux négatifs + vrais négatifs (FN+TP) (correspond aux 2 cases du bas de la matrice de confusion)\n",
    "- F-mesure ou F-score ou F1 : combine précision et rappel, moyenne harmonique) "
   ]
  },
  {
   "cell_type": "markdown",
   "metadata": {},
   "source": [
    "$$\n",
    "P = TP + TN / (TP + TN + FP + FN)\n",
    "$$"
   ]
  },
  {
   "cell_type": "markdown",
   "metadata": {},
   "source": [
    "autrement dit P = true / true + false"
   ]
  },
  {
   "cell_type": "markdown",
   "metadata": {},
   "source": [
    "$$\n",
    "R = TP / TP + FN\n",
    "$$"
   ]
  },
  {
   "cell_type": "markdown",
   "metadata": {},
   "source": [
    "autrement dit R = TP / éléments pertinents"
   ]
  },
  {
   "cell_type": "markdown",
   "metadata": {},
   "source": [
    "$$\n",
    "F1 = F-mesure = F-score = 2*(P*R/P+R)\n",
    "$$"
   ]
  },
  {
   "cell_type": "markdown",
   "metadata": {},
   "source": [
    "### AUC (Area Under Curve)"
   ]
  },
  {
   "cell_type": "markdown",
   "metadata": {},
   "source": [
    "C'est une mesure de confiance qu'a le classifieur dans ses propres prédictions \n"
   ]
  },
  {
   "cell_type": "markdown",
   "metadata": {},
   "source": [
    "NB : <br>\n",
    "=> Mesurer la performance d'un classifieur n'est pas chose aisée car un classifieur peut être bon pour une métrique et mauvais pour une autre. Choisir en avance de phase une métrique qui correspond le mieux à une éventuelle action métier sur les prédictions ou à un gain financer potentiel est essentiel. Cela peut être par exemple une AUC ou un recall à précision fixée. Il est donc fondamental de s’approprier la métrique utilisée car elle est d’une certain manière la passerelle entre la modélisation théorique et la réalité."
   ]
  },
  {
   "cell_type": "markdown",
   "metadata": {},
   "source": [
    "### Test de Mc Nemar"
   ]
  },
  {
   "cell_type": "markdown",
   "metadata": {},
   "source": [
    "- Le test d'hypothèse statistique de Mc Nemar permet de comparer des modèles de classifieurs sur un jeu de données de test.\n",
    "- Ce test convient aux modèles couteux à former et aux modèles de deep learning.\n",
    "- Le test de Mc Nemar vérifie si les désaccords entre 2 classifieurs correspondent (c'est un peu comme un test d'homogénéité)\n",
    "- Ce test est largement utilisé en médecine pour comparer l'effet d'un traitement avec un témoin\n",
    "- NB : on compare des classifieurs BINAIRES pas multiclasses.\n"
   ]
  },
  {
   "cell_type": "markdown",
   "metadata": {},
   "source": [
    "LE TEST DE MC NEMAR APPLIQUÉ AUX CLASSIFIEURS : \n",
    "\n",
    "\n",
    "- H0 : les 2 algorithmes (classifieurs) ont une proportion  d'erreurs SIMILAIRE sur l'ensemble de test.\n",
    "\n",
    "=> autrement dit, il y a très peu de différence dans les désaccords entre les 2 classifieurs \n",
    "\n",
    "- H1 :  les 2 algorithmes (classifieurs) ont une proportion  d'erreurs DIFFERENTE sur l'ensemble de test.   \n",
    "\n"
   ]
  },
  {
   "cell_type": "markdown",
   "metadata": {},
   "source": [
    "- p> alpha : ne pas rejeter H0, aucune différence dans le désaccord (par exemple, le traitement n'a eu aucun effet).\n",
    "- p <= alpha : rejeter H0, différence significative dans le désaccord (par exemple, le traitement a eu un effet)."
   ]
  },
  {
   "cell_type": "markdown",
   "metadata": {},
   "source": [
    "### Sources"
   ]
  },
  {
   "cell_type": "markdown",
   "metadata": {},
   "source": [
    "- https://fr.wikipedia.org/wiki/Courbe_ROC\n",
    "- https://fr.wikipedia.org/wiki/Précision_et_rappel\n",
    "- https://blog.octo.com/quel-sens-metier-pour-les-metriques-de-classification/\n",
    "- https://developers.google.com/machine-learning/crash-course/classification/precision-and-recall?hl=fr\n",
    "- https://towardsdatascience.com/accuracy-precision-recall-or-f1-331fb37c5cb9\n",
    "- https://datatofish.com/confusion-matrix-python/\n",
    "- https://statistique-et-logiciel-r.com/comparaisons-de-deux-proportions-appariees-le-test-de-mac-nemar/\n",
    "- https://machinelearningmastery.com/mcnemars-test-for-machine-learning/"
   ]
  }
 ],
 "metadata": {
  "kernelspec": {
   "display_name": "Python 3",
   "language": "python",
   "name": "python3"
  },
  "language_info": {
   "codemirror_mode": {
    "name": "ipython",
    "version": 3
   },
   "file_extension": ".py",
   "mimetype": "text/x-python",
   "name": "python",
   "nbconvert_exporter": "python",
   "pygments_lexer": "ipython3",
   "version": "3.7.3"
  }
 },
 "nbformat": 4,
 "nbformat_minor": 2
}
